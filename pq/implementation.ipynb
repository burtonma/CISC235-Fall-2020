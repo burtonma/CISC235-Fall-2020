{
 "cells": [
  {
   "cell_type": "code",
   "execution_count": 1,
   "metadata": {},
   "outputs": [],
   "source": [
    "// run this cell to prevent Jupyter from displaying the null output cell\n",
    "com.twosigma.beakerx.kernel.Kernel.showNullExecutionResult = false;"
   ]
  },
  {
   "cell_type": "markdown",
   "metadata": {},
   "source": [
    "<a id=\"notebook_id\"></a>\n",
    "# Heap-based priority queue\n",
    "\n",
    "Recall that a priority queue supports the following operations:\n",
    "\n",
    "* `size` : returns the number of key-value pairs in the queue\n",
    "* `isEmpty` : returns true if the queue is empty, false otherwise\n",
    "* `insert(K priority, V value)` : inserts a value with the specified priority\n",
    "* `max` : returns the key-value pair having the greatest priority\n",
    "* `removeMax` : removes and returns the key-value pair having the greatest priority\n",
    "\n",
    "It should be clear to the reader that a max-heap can be used to implement a priority queue. The heap will be represented by an array or list of key-value pairs (in Java it is easier to use a list for a generic heap; otherwise, the heap is represented by an array of `Object` and casting is required for returning key-value pairs from `max` and `removeMax`). The methods are implemented as follows:\n",
    "\n",
    "* `size` : returns the number of elements in the heap\n",
    "* `isEmpty` : returns true if `size` returns 0, false otherwise\n",
    "* `insert(K priority, V value)` : inserts a key-value pair into the heap using the priority for comparisons\n",
    "* `max` : returns the key-value pair at the root of the heap\n",
    "* `removeMax` : removes the key-value pair at the root the heap, moves the last element of the heap into the root, and then calls heapify to fix the heap\n",
    "\n",
    "**Exercise** Implement a priority queue using a max-heap."
   ]
  },
  {
   "cell_type": "code",
   "execution_count": null,
   "metadata": {},
   "outputs": [],
   "source": []
  }
 ],
 "metadata": {
  "kernelspec": {
   "display_name": "Java",
   "language": "java",
   "name": "java"
  },
  "language_info": {
   "codemirror_mode": "text/x-java",
   "file_extension": ".java",
   "mimetype": "",
   "name": "Java",
   "nbconverter_exporter": "",
   "version": "1.8.0_121"
  },
  "toc": {
   "base_numbering": 1,
   "nav_menu": {},
   "number_sections": false,
   "sideBar": false,
   "skip_h1_title": false,
   "title_cell": "Table of Contents",
   "title_sidebar": "Contents",
   "toc_cell": false,
   "toc_position": {},
   "toc_section_display": false,
   "toc_window_display": false
  }
 },
 "nbformat": 4,
 "nbformat_minor": 4
}
