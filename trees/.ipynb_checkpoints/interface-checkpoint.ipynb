{
 "cells": [
  {
   "cell_type": "code",
   "execution_count": null,
   "metadata": {},
   "outputs": [],
   "source": [
    "// run this cell to prevent Jupyter from displaying the null output cell\n",
    "com.twosigma.beakerx.kernel.Kernel.showNullExecutionResult = false;"
   ]
  },
  {
   "cell_type": "markdown",
   "metadata": {},
   "source": [
    "# `Tree` Interface\n",
    "\n",
    "A Java interface for trees is shown in the next cell. The interface for trees is that of a simple collection of elements where the user can add and remove elements from the collection and ask the collection for its size and if it contains a specified element."
   ]
  },
  {
   "cell_type": "code",
   "execution_count": null,
   "metadata": {},
   "outputs": [],
   "source": [
    "%classpath add jar ../resources/jar/notes.jar\n",
    "\n",
    "package ca.queensu.cs.cisc235.tree;\n",
    "\n",
    "public interface Tree<E> {\n",
    "\n",
    "    /**\n",
    "     * Returns the number of elements in this tree.\n",
    "     * \n",
    "     * @return the number of elements in this tree\n",
    "     */\n",
    "    public int size();\n",
    "    \n",
    "    /**\n",
    "     * Returns {@code true} if this tree is empty.\n",
    "     * \n",
    "     * @return true if this tree is empty \n",
    "     */\n",
    "    default public boolean isEmpty() {\n",
    "        return this.size() == 0;\n",
    "    }\n",
    "\n",
    "    /**\n",
    "     * Adds an element to this tree. Some tree types may not allow {@code null}\n",
    "     * elements.\n",
    "     * \n",
    "     * @param elem the element to add\n",
    "     * @throws NullPointerException if the specified element is null and this tree\n",
    "     *                              does not permit null elements\n",
    "     */\n",
    "    public void add(E elem);\n",
    "\n",
    "    /**\n",
    "     * Removes one occurrence of the specified element from this tree if it is\n",
    "     * present (optional operation). More specifically, one element {@code e} will\n",
    "     * be removed if {@code e.equals(o)} is {@code true}. If {@code null} elements\n",
    "     * are allowed and {@code o} is {@code null} then one element {@code e} will be\n",
    "     * removed if {@code e == null} is {@code true}.\n",
    "     * \n",
    "     * @param elem the element to remove\n",
    "     * @throws NullPointerException          if the specified element is null and\n",
    "     *                                       this tree does not permit null elements\n",
    "     * @throws UnsupportedOperationException if the remove operation is not\n",
    "     *                                       supported\n",
    "     */\n",
    "    public boolean remove(E elem);\n",
    "\n",
    "    /**\n",
    "     * Returns {@code true} if this tree contains the specified element. More\n",
    "     * specifically, {@code true} is returned if an element {@code e} is in the tree\n",
    "     * and {@code e.equals(o)} is {@code true}. If {@code null} elements are allowed\n",
    "     * and {@code o} is {@code null} then {@code true} is returned if a {@code null}\n",
    "     * element is in the tree.\n",
    "     * \n",
    "     * @param elem the element to search for\n",
    "     * @return true if the specified element is in this tree\n",
    "     * @throws NullPointerException          if the specified element is null and\n",
    "     *                                       this tree does not permit null elements\n",
    "     */\n",
    "    public boolean contains(E elem);\n",
    "}\n"
   ]
  }
 ],
 "metadata": {
  "kernelspec": {
   "display_name": "Java",
   "language": "java",
   "name": "java"
  },
  "language_info": {
   "codemirror_mode": "text/x-java",
   "file_extension": ".java",
   "mimetype": "",
   "name": "Java",
   "nbconverter_exporter": "",
   "version": "1.8.0_121"
  },
  "toc": {
   "base_numbering": 1,
   "nav_menu": {},
   "number_sections": false,
   "sideBar": false,
   "skip_h1_title": false,
   "title_cell": "Table of Contents",
   "title_sidebar": "Contents",
   "toc_cell": false,
   "toc_position": {},
   "toc_section_display": false,
   "toc_window_display": false
  }
 },
 "nbformat": 4,
 "nbformat_minor": 4
}
