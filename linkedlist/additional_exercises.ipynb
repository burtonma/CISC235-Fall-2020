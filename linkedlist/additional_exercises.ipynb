{
 "cells": [
  {
   "cell_type": "code",
   "execution_count": 1,
   "metadata": {},
   "outputs": [],
   "source": [
    "// run this cell to prevent Jupyter from displaying the null output cell\n",
    "com.twosigma.beakerx.kernel.Kernel.showNullExecutionResult = false;"
   ]
  },
  {
   "cell_type": "markdown",
   "metadata": {},
   "source": [
    "<a id=\"notebook_id\"></a>\n",
    "# Exercises\n",
    "\n",
    "The following exercises should modify the `LinkedList` class.\n",
    "\n",
    "1. Implement the method `contains(E elem)` that returns `true` if a linked list contains an element equal to `elem`.\n",
    "\n",
    "2. Implement the method `remove(E elem)` that removes the first occurrence of an element equal to `elem` and returns `true` if an element was removed from the list.\n",
    "\n",
    "3. Implement the `equals(Object obj)` method.\n",
    "\n",
    "4. Implement the `hashCode()` method.\n",
    "\n",
    "5. Implement the `toString()` method. The returned string should have the same format as that returned by `toString` in Java's `ArrayList` class.\n",
    "\n",
    "The following exercises should go into a separate class named `LinkedListUtils` that is in the same package as the `LinkedList` class. The class `LinkedListUtils` has access to the package private methods `getHead()` and `getTail()` in `LinkedList` if it is in the same package as `LinkedList`.\n",
    "\n",
    "6. Implement a method `frequency(LinkedList<E> t, E elem)` that counts the number of elements in `t` that are equal to `elem`. The method should iterate over the nodes of the list only once.\n",
    "\n",
    "7. Implement a method `swap(LinkedList<E> t, int i1, int i2)` that swaps the elements at indexes `i1` and `i2` of a linked list `t`. The method should iterate over the nodes of the list only once.\n",
    "\n",
    "8. Implement a method `split(LinkedList<E> t, int index)` that modifies the list `t` so that the first `index - 1` elements of `t` are unmodified in `t` and the remaining elements are removed from `t` and returned in a new linked list. The method should iterate over the nodes of the list only once.\n",
    "\n",
    "9. Implement a method `insertSorted(LinkedList<Integer> t, int elem)` that inserts the value `elem` into a sorted list `t`. The list `t` remains sorted after the insertion. The method should iterate over the nodes of the list only once.\n",
    "\n",
    "10. Implement a method `rotate(LinkedList<E> t, int k)` that rotates the elements of a linked list `t` by `k` positions. Rotating a list moves the `k` elements at the back of the list to the front of the list. The method should iterate over the nodes of the list only once.\n",
    "\n",
    "11. Implement a method `reverse(LinkedList<E> t)` that reverses the order of the elements in a linked list `t`. The method should iterate over the nodes of the list only once."
   ]
  }
 ],
 "metadata": {
  "kernelspec": {
   "display_name": "Java",
   "language": "java",
   "name": "java"
  },
  "language_info": {
   "codemirror_mode": "text/x-java",
   "file_extension": ".java",
   "mimetype": "",
   "name": "Java",
   "nbconverter_exporter": "",
   "version": "1.8.0_121"
  },
  "toc": {
   "base_numbering": 1,
   "nav_menu": {},
   "number_sections": false,
   "sideBar": false,
   "skip_h1_title": false,
   "title_cell": "Table of Contents",
   "title_sidebar": "Contents",
   "toc_cell": false,
   "toc_position": {},
   "toc_section_display": false,
   "toc_window_display": false
  }
 },
 "nbformat": 4,
 "nbformat_minor": 4
}
