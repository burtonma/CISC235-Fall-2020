{
 "cells": [
  {
   "cell_type": "code",
   "execution_count": 1,
   "metadata": {},
   "outputs": [],
   "source": [
    "// run this cell to prevent Jupyter from displaying the null output cell\n",
    "com.twosigma.beakerx.kernel.Kernel.showNullExecutionResult = false;"
   ]
  },
  {
   "cell_type": "markdown",
   "metadata": {},
   "source": [
    "<a id=\"notebook_id\"></a>\n",
    "# Getting and setting an element by index\n",
    "\n",
    "After implementing the `validate(int)` and `moveTo(int)` methods, implementing `get(int)` and `set(int, E)` is almost trivial.\n",
    "\n",
    "To get an element by index we:\n",
    "\n",
    "1. validate the index throwing an exception if necessary\n",
    "2. move to the node corresponding to the index\n",
    "3. return a reference to the element in the node\n",
    "\n",
    "To set an element by index we:\n",
    "\n",
    "1. validate the index throwing an exception if necessary\n",
    "2. move to the node corresponding to the index\n",
    "3. save a reference to the element in the node so that we can return the old element\n",
    "4. set the reference in the node to refer to the new element\n",
    "\n",
    "**Exercise 1**: What is the big-$O$ time complexity of `get` and `set`?\n",
    "\n",
    "**Exercise 2**: What is the big-$\\Omega$ time complexity of `get` and `set`?\n"
   ]
  },
  {
   "cell_type": "code",
   "execution_count": null,
   "metadata": {},
   "outputs": [],
   "source": []
  }
 ],
 "metadata": {
  "kernelspec": {
   "display_name": "Java",
   "language": "java",
   "name": "java"
  },
  "language_info": {
   "codemirror_mode": "text/x-java",
   "file_extension": ".java",
   "mimetype": "",
   "name": "Java",
   "nbconverter_exporter": "",
   "version": "1.8.0_121"
  },
  "toc": {
   "base_numbering": 1,
   "nav_menu": {},
   "number_sections": false,
   "sideBar": false,
   "skip_h1_title": false,
   "title_cell": "Table of Contents",
   "title_sidebar": "Contents",
   "toc_cell": false,
   "toc_position": {},
   "toc_section_display": false,
   "toc_window_display": false
  }
 },
 "nbformat": 4,
 "nbformat_minor": 4
}
