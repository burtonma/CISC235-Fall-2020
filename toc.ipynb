{
 "cells": [
  {
   "cell_type": "markdown",
   "metadata": {},
   "source": [
    "# Table of contents\n",
    "\n",
    "* Java\n",
    "    * [Using a Jupyter notebook with beakerx](./java/first_java_program.ipynb)\n",
    "    * [Arrays](./java/arrays.ipynb#notebook_id)\n",
    "    * [Lists](./java/lists.ipynb#notebook_id)\n",
    "    * [Sets](./java/sets.ipynb#notebook_id)\n",
    "    * [Maps](./java/maps.ipynb#notebook_id)\n",
    "    * [Implementing a simple list class](./java/implementing_a_simple_list_class.ipynb#notebook_id)\n",
    "    * [Implementing a simple generic list class](./java/implementing_a_simple_generic_class.ipynb#notebook_id)\n",
    "    * [Implementing a generic list class that has no fixed size](./java/implementing_a_resizable_list.ipynb#notebook_id)"
   ]
  },
  {
   "cell_type": "code",
   "execution_count": null,
   "metadata": {},
   "outputs": [],
   "source": []
  }
 ],
 "metadata": {
  "kernelspec": {
   "display_name": "Python 3",
   "language": "python",
   "name": "python3"
  },
  "language_info": {
   "codemirror_mode": {
    "name": "ipython",
    "version": 3
   },
   "file_extension": ".py",
   "mimetype": "text/x-python",
   "name": "python",
   "nbconvert_exporter": "python",
   "pygments_lexer": "ipython3",
   "version": "3.6.10"
  },
  "toc": {
   "base_numbering": 1,
   "nav_menu": {},
   "number_sections": false,
   "sideBar": false,
   "skip_h1_title": false,
   "title_cell": "Table of Contents",
   "title_sidebar": "Contents",
   "toc_cell": false,
   "toc_position": {},
   "toc_section_display": false,
   "toc_window_display": false
  }
 },
 "nbformat": 4,
 "nbformat_minor": 4
}
