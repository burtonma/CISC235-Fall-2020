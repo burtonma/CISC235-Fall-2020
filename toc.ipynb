{
 "cells": [
  {
   "cell_type": "markdown",
   "metadata": {},
   "source": [
    "# Table of contents\n",
    "\n",
    "* Java\n",
    "    * [Using a Jupyter notebook with beakerx](./java/first_java_program.ipynb)\n",
    "    * [Arrays](./java/arrays.ipynb#notebook_id)\n",
    "    * [Lists](./java/lists.ipynb#notebook_id)\n",
    "    * [Sets](./java/sets.ipynb#notebook_id)\n",
    "    * [Maps](./java/maps.ipynb#notebook_id)\n",
    "    * [Implementing a simple list class](./java/implementing_a_simple_list_class.ipynb#notebook_id)\n",
    "    * [Implementing a simple generic list class](./java/implementing_a_simple_generic_class.ipynb#notebook_id)\n",
    "    * [Implementing a generic list class that has no fixed size](./java/implementing_a_resizable_list.ipynb#notebook_id)\n",
    "* Stacks\n",
    "    * [Description](./stack/description.ipynb#notebook_id)\n",
    "    * [Interface](./stack/interface.ipynb#notebook_id)\n",
    "    * [How not to use inheritance to implement a stack](./stack/how_not_to_use_inheritance_to_implement_a_stack.ipynb#notebook_id)\n",
    "    * [List-based stack](./stack/list_based_stack.ipynb#notebook_id)\n",
    "    * [Array-based fixed size stack](./stack/array_based_fixed_size_stack.ipynb#notebook_id)\n",
    "    * [Array-based stack](./stack/array_based_stack.ipynb#notebook_id)\n",
    "    * [Implementing linked structures](./stack/implementing_linked_structures.ipynb#notebook_id)\n",
    "    * [Linked node-based stack](./stack/link_based_stack.ipynb#notebook_id)\n",
    "* Computational complexity\n",
    "    * [Introduction and big-O](./complexity/introduction.ipynb#notebook_id)\n",
    "    * [Big-Omega notation](./complexity/omega-notation.ipynb#notebook_id)\n",
    "    * [Big-Theta notation](./complexity/theta-notation.ipynb#notebook_id)\n",
    "* Singly linked lists\n",
    "    * [Description](./linkedlist/description.ipynb#notebook_id)\n",
    "    * [Adding an element](./linkedlist/adding_an_element.ipynb#notebook_id)\n",
    "    * [Moving to a node](./linkedlist/moving_to_a_node.ipynb#notebook_id)\n",
    "    * [Getting and setting an element](./linkedlist/getting_and_setting_an_element.ipynb#notebook_id)\n",
    "    * [Inserting an element](./linkedlist/inserting_an_element.ipynb#notebook_id)\n",
    "    * [Removing an element](./linkedlist/removing_an_element.ipynb#notebook_id)\n",
    "    * [Addititional exercises](./linkedlist/additional_exercises.ipynb#notebook_id)\n",
    "* Trees\n",
    "    * [Description](./trees/description.ipynb#notebook_id)\n",
    "    * [Interface](./trees/interface.ipynb#notebook_id)\n",
    "        * [Binary trees](./trees/binary_trees.ipynb#notebook_id)\n",
    "        * [Node class](./trees/binary_node.ipynb#notebook_id)\n",
    "        * [Random binary tree](./trees/random_binary_tree.ipynb#notebook_id)\n",
    "        * [Traversal algorithms](./trees/traversals.ipynb#notebook_id)\n",
    "        * [Binary search trees](./trees/binary_search_trees.ipynb#notebook_id)\n",
    "        * [Binary search tree implementation](./trees/bst_implementation.ipynb#notebook_id)\n",
    "        * [Exercise solutions](./trees/exercise_solutions.ipynb#notebook_id)"
   ]
  },
  {
   "cell_type": "code",
   "execution_count": null,
   "metadata": {},
   "outputs": [],
   "source": []
  }
 ],
 "metadata": {
  "kernelspec": {
   "display_name": "Python 3",
   "language": "python",
   "name": "python3"
  },
  "language_info": {
   "codemirror_mode": {
    "name": "ipython",
    "version": 3
   },
   "file_extension": ".py",
   "mimetype": "text/x-python",
   "name": "python",
   "nbconvert_exporter": "python",
   "pygments_lexer": "ipython3",
   "version": "3.8.5"
  },
  "toc": {
   "base_numbering": 1,
   "nav_menu": {},
   "number_sections": false,
   "sideBar": false,
   "skip_h1_title": false,
   "title_cell": "Table of Contents",
   "title_sidebar": "Contents",
   "toc_cell": false,
   "toc_position": {},
   "toc_section_display": false,
   "toc_window_display": false
  }
 },
 "nbformat": 4,
 "nbformat_minor": 4
}
