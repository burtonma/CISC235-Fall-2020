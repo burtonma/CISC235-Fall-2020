{
 "cells": [
  {
   "cell_type": "code",
   "execution_count": null,
   "metadata": {},
   "outputs": [],
   "source": [
    "// run this cell to prevent Jupyter from displaying the null output cell\n",
    "com.twosigma.beakerx.kernel.Kernel.showNullExecutionResult = false;"
   ]
  },
  {
   "cell_type": "markdown",
   "metadata": {},
   "source": [
    "<a id=\"notebook_id\"></a>\n",
    "# Lists\n",
    "\n",
    "A Java `List` is a kind of collection that holds its elements in a numbered sequence. Lists support:\n",
    "\n",
    "* all of the `Collection` operations\n",
    "* positional access: elements of the list can be accessed based on their numerical position, or index, in the list\n",
    "* search: lists can search for a specified element in the list\n",
    "* iteration: users can iterate over the elements of a list using an enhanced for loop\n",
    "* a range-view operation `subList` that lets the user treat part of an existing list as though it were a list\n",
    "\n",
    "The Java standard library provides two types of lists. The `ArrayList` is a list implemented using an array and is usually the better performing type of list. The `LinkedList` may perform better than an `ArrayList` in very specific circumstances.\n",
    "\n",
    "This notebook focuses on using `ArrayList`.\n",
    "\n",
    "Both `List` and `ArrayList` are in the package `java.util`. Their APIs are documented at the following links:\n",
    "\n",
    "* [List](https://docs.oracle.com/en/java/javase/11/docs/api/java.base/java/util/List.html)\n",
    "* [ArrayList](https://docs.oracle.com/en/java/javase/11/docs/api/java.base/java/util/ArrayList.html)"
   ]
  },
  {
   "cell_type": "markdown",
   "metadata": {},
   "source": [
    "## `List` variables\n",
    "\n",
    "A `List` is a reference type called an *interface*. In its simplest form, an interface provides a specification for a type but does not provide any of the implementation details. In other words, an interface specifies the methods that the type has and specifies the contracts for the methods but it provides none of the implementation. Interfaces are described in greater detail in a later notebook.\n",
    "\n",
    "`ArrayList` is a class that provides an implementation of the `List` interface. `ArrayList` provides an implementation for all of the methods specified by the `List` interface. In Java we say that `ArrayList` *implements* the `List` interface.\n",
    "\n",
    "Both `List` and `ArrayList` are types called *generic types*. A generic type is a class or interface that is parameterized over types; in other words, a generic class or interface requires one or more additional types to be specified when using it.\n",
    "\n",
    "`List` and `ArrayList` require information regarding the element type that will be stored in the collection. The element type is specified inside a pair of angled brackets `<>`. For example, to declare a variable that can store a list of `String` elements we would use:"
   ]
  },
  {
   "cell_type": "code",
   "execution_count": null,
   "metadata": {},
   "outputs": [],
   "source": [
    "import java.util.List;\n",
    "\n",
    "List<String> stringList;"
   ]
  },
  {
   "cell_type": "markdown",
   "metadata": {},
   "source": [
    "One limitation of Java's implementation of generic types is that a generic type cannot be parameterized by a primitive type; for example, we cannot create a list of `int`. Instead we have to substitute the wrapper class for the primitive type. The following cell declares a list suitable for each of the primitive types:"
   ]
  },
  {
   "cell_type": "code",
   "execution_count": null,
   "metadata": {},
   "outputs": [],
   "source": [
    "import java.util.List;\n",
    "\n",
    "List<Byte> byteList;\n",
    "List<Character> charList;\n",
    "List<Short> shortList;\n",
    "List<Integer> intList;\n",
    "List<Long> longList;\n",
    "List<Float> floatList;\n",
    "List<Double> doubleList;"
   ]
  },
  {
   "cell_type": "markdown",
   "metadata": {},
   "source": [
    "## Creating an `ArrayList`\n",
    "\n",
    "`ArrayList` is a class which means that instances are created using the `new` operator and a constructor. The no-argument constructor creates an empty `ArrayList`; for example:"
   ]
  },
  {
   "cell_type": "code",
   "execution_count": null,
   "metadata": {},
   "outputs": [],
   "source": [
    "import java.util.List;\n",
    "import java.util.ArrayList;\n",
    "\n",
    "List<Integer> t = new ArrayList<Integer>();\n",
    "System.out.println(\"list t : \"  + t);"
   ]
  },
  {
   "cell_type": "markdown",
   "metadata": {},
   "source": [
    "Notice that in the previous cell, we specified the generic type `Integer` twice (once in the variable type and a second time in the constructor call). Java 7 introduced generic type inference which allows the programmer to omit the generic type if the compiler can infer the correct type from the context. In the previous example, we declared the variable type to be `List<Integer>` which allows the compiler to deduce the generic parameter for the constructor. This allows us to write the previous example as:"
   ]
  },
  {
   "cell_type": "code",
   "execution_count": null,
   "metadata": {},
   "outputs": [],
   "source": [
    "import java.util.List;\n",
    "import java.util.ArrayList;\n",
    "\n",
    "List<Integer> t = new ArrayList<>();\n",
    "System.out.println(\"list t : \"  + t);"
   ]
  },
  {
   "cell_type": "markdown",
   "metadata": {},
   "source": [
    "Also notice that the type of `t` is `List<Integer>` but we were able to store a reference to an `ArrayList<Integer>` object. This is legal in Java because `ArrayList` implements the `List` interface. When a class implements an interface we say that the class is *substitutable for* the interface.\n",
    "\n",
    "Of course, we could have also written:"
   ]
  },
  {
   "cell_type": "code",
   "execution_count": null,
   "metadata": {},
   "outputs": [],
   "source": [
    "import java.util.List;\n",
    "import java.util.ArrayList;\n",
    "\n",
    "ArrayList<Integer> t = new ArrayList<>();\n",
    "System.out.println(\"list t : \"  + t);"
   ]
  },
  {
   "cell_type": "markdown",
   "metadata": {},
   "source": [
    "For the time being it is unimportant if you declare the variable type using the interface name or the class name. The distinction will be made clearer in a later notebook.\n",
    "\n",
    "Note that you cannot do the following:"
   ]
  },
  {
   "cell_type": "code",
   "execution_count": null,
   "metadata": {},
   "outputs": [],
   "source": [
    "import java.util.List;\n",
    "import java.util.ArrayList;\n",
    "\n",
    "List<Integer> t = new List<>();"
   ]
  },
  {
   "cell_type": "markdown",
   "metadata": {},
   "source": [
    "because `List` is not a class and therefore has no constructors."
   ]
  },
  {
   "cell_type": "markdown",
   "metadata": {},
   "source": [
    "## The size of a list\n",
    "\n",
    "The size of a list is the number of elements in the list. A list created using the no-argument constructor is the empty list and has a size of zero. The size of a list is returned by the method `size`:"
   ]
  },
  {
   "cell_type": "code",
   "execution_count": null,
   "metadata": {},
   "outputs": [],
   "source": [
    "import java.util.List;\n",
    "import java.util.ArrayList;\n",
    "\n",
    "List<Integer> t = new ArrayList<>();\n",
    "int sz = t.size();\n",
    "\n",
    "System.out.println(\"size: \" + sz);"
   ]
  },
  {
   "cell_type": "markdown",
   "metadata": {},
   "source": [
    "## Adding elements to the end of a list\n",
    "\n",
    "After creating a list elements can be appended to the end of the list using the method `add`:"
   ]
  },
  {
   "cell_type": "code",
   "execution_count": null,
   "metadata": {},
   "outputs": [],
   "source": [
    "import java.util.List;\n",
    "import java.util.ArrayList;\n",
    "\n",
    "// number of daily new confirmed COVID-19 cases in Ontario starting from April 1, 2020\n",
    "List<Integer> t = new ArrayList<>();\n",
    "t.add(492);\n",
    "System.out.println(t);\n",
    "\n",
    "t.add(377);\n",
    "System.out.println(t);\n",
    "\n",
    "t.add(449);\n",
    "System.out.println(t);\n",
    "\n",
    "t.add(405);\n",
    "t.add(361);\n",
    "t.add(456);\n",
    "t.add(432);\n",
    "t.add(441);\n",
    "t.add(454);\n",
    "t.add(542);\n",
    "System.out.println(t);"
   ]
  },
  {
   "cell_type": "markdown",
   "metadata": {},
   "source": [
    "## Getting an element from a list"
   ]
  },
  {
   "cell_type": "markdown",
   "metadata": {},
   "source": [
    "A list is like an array in that it uses an integer index to access its elements. The list method `get(int)` returns an element at the specified index of a list."
   ]
  },
  {
   "cell_type": "code",
   "execution_count": null,
   "metadata": {},
   "outputs": [],
   "source": [
    "import java.util.List;\n",
    "import java.util.ArrayList;\n",
    "\n",
    "// Uno wild cards\n",
    "List<String> t = new ArrayList<>();\n",
    "t.add(\"Skip\");\n",
    "t.add(\"Reverse\");\n",
    "t.add(\"Draw Two\");\n",
    "t.add(\"Wild\");\n",
    "t.add(\"Wild Draw Four\");\n",
    "System.out.println(t);\n",
    "\n",
    "String s = t.get(0);\n",
    "System.out.println(\"index 0: \" + s);\n",
    "\n",
    "s = t.get(1);\n",
    "System.out.println(\"index 1: \" + s);\n",
    "\n",
    "s = t.get(2);\n",
    "System.out.println(\"index 2: \" + s);\n",
    "\n",
    "s = t.get(3);\n",
    "System.out.println(\"index 3: \" + s);\n",
    "\n",
    "s = t.get(4);\n",
    "System.out.println(\"index 4: \" + s);\n"
   ]
  },
  {
   "cell_type": "markdown",
   "metadata": {},
   "source": [
    "If a list is empty then any use of `get` will throw an exception. Otherwise, the range of valid indexes for a non-empty list `t` is 0 to `t.size() - 1`.\n",
    "\n",
    "Run the next cell to see what happens when an invalid index is used:"
   ]
  },
  {
   "cell_type": "code",
   "execution_count": null,
   "metadata": {},
   "outputs": [],
   "source": [
    "import java.util.List;\n",
    "import java.util.ArrayList;\n",
    "\n",
    "List<Boolean> t = new ArrayList<>();\n",
    "t.add(true);\n",
    "\n",
    "boolean b = t.get(1);"
   ]
  },
  {
   "cell_type": "markdown",
   "metadata": {},
   "source": [
    "## Setting an element in a list\n",
    "\n",
    "The method `set(int index, E element)` replaces the element at the specified index with the specified element and returns the element that was replaced."
   ]
  },
  {
   "cell_type": "code",
   "execution_count": null,
   "metadata": {},
   "outputs": [],
   "source": [
    "import java.util.List;\n",
    "import java.util.ArrayList;\n",
    "\n",
    "List<String> grades = new ArrayList<>();\n",
    "grades.add(\"A\");\n",
    "grades.add(\"A+\");\n",
    "grades.add(\"D\");\n",
    "grades.add(\"B\");\n",
    "grades.add(\"B+\");\n",
    "System.out.println(grades);\n",
    "\n",
    "// replace the D with an A\n",
    "String replacedGrade = grades.set(2, \"A\");\n",
    "\n",
    "System.out.println(\"replaced grade of \" + replacedGrade + \" with A\");\n",
    "System.out.println(grades);\n"
   ]
  },
  {
   "cell_type": "markdown",
   "metadata": {},
   "source": [
    "Notice that `set` does not cause the size of the list to change; it simply replaces an existing element with another value.\n",
    "\n",
    "If a list is empty then any use of `set` will throw an exception. Otherwise, the range of valid indexes for a non-empty list `t` is 0 to `t.size() - 1`.\n",
    "\n",
    "Run the next cell to see what happens when an invalid index is used:"
   ]
  },
  {
   "cell_type": "code",
   "execution_count": null,
   "metadata": {},
   "outputs": [],
   "source": [
    "import java.util.List;\n",
    "import java.util.ArrayList;\n",
    "\n",
    "List<Boolean> t = new ArrayList<>();\n",
    "t.add(true);\n",
    "\n",
    "boolean replaced = t.set(1, false);"
   ]
  },
  {
   "cell_type": "markdown",
   "metadata": {},
   "source": [
    "## Inserting an element into a list\n",
    "\n",
    "Inserting an element into a list requires shifting existing elements down the list to make room for the inserted element. Consider the following visualization of a list of eight strings sorted in alphabetic order:\n",
    "\n",
    "|index|0|1|2|3|4|5|6|7|\n",
    "|:-|:-:|:-:|:-:|:-:|:-:|:-:|:-:|:-:|\n",
    "|element|`\"a\"`|`\"b\"`|`\"c\"`|`\"d\"`|`\"f\"`|`\"g\"`|`\"h\"`|`\"i\"`|\n",
    "\n",
    "Notice that the `\"e\"` is missing from the sequence of strings. To make space to insert the `\"e\"` into its natural position we need to shift the letters `\"f\"` through `\"i\"` one position down the list:\n",
    "\n",
    "|index|0|1|2|3|4|5|6|7|8|\n",
    "|:-|:-:|:-:|:-:|:-:|:-:|:-:|:-:|:-:|:-:|\n",
    "|element|`\"a\"`|`\"b\"`|`\"c\"`|`\"d\"`|   |`\"f\"`|`\"g\"`|`\"h\"`| `\"i\"`| \n",
    "\n",
    "After shifting the elements we can set the element at index 4 to `\"e\"`:\n",
    "\n",
    "|index|0|1|2|3|4|5|6|7|8|\n",
    "|:-|:-:|:-:|:-:|:-:|:-:|:-:|:-:|:-:|:-:|\n",
    "|element|`\"a\"`|`\"b\"`|`\"c\"`|`\"d\"`| `\"e\"`  |`\"f\"`|`\"g\"`|`\"h\"`| `\"i\"`| \n",
    "\n",
    "Notice that inserting an element into a list causes the size of the list to increase by 1.\n",
    "\n",
    "The method `add(int index, E element)` inserts the specified element into a list at the specified index. In the example above we would use `set(4, \"e\")` to insert the `\"e\"`:"
   ]
  },
  {
   "cell_type": "code",
   "execution_count": null,
   "metadata": {},
   "outputs": [],
   "source": [
    "import java.util.List;\n",
    "import java.util.ArrayList;\n",
    "\n",
    "List<String> letters = new ArrayList<>();\n",
    "\n",
    "// add the letters to the list skipping the 'e'\n",
    "for (char c = 'a'; c <= 'i'; c++) {\n",
    "    if (c == 'e') {\n",
    "        continue;\n",
    "    }\n",
    "    letters.add(\"\" + c);\n",
    "}\n",
    "System.out.println(letters);\n",
    "\n",
    "// insert the 'e'\n",
    "letters.add(4, \"e\");\n",
    "System.out.println(letters);\n"
   ]
  },
  {
   "cell_type": "markdown",
   "metadata": {},
   "source": [
    "As with `get` and `add` using an invalid index causes an exception to be thrown."
   ]
  },
  {
   "cell_type": "markdown",
   "metadata": {},
   "source": [
    "## Iterating over the elements of a list\n",
    "\n",
    "Iterating over the elements of a list can be done using a for loop:"
   ]
  },
  {
   "cell_type": "code",
   "execution_count": 1,
   "metadata": {},
   "outputs": [
    {
     "data": {
      "application/vnd.jupyter.widget-view+json": {
       "model_id": "879fe525-36c0-4937-9ea1-4b490430454c",
       "version_major": 2,
       "version_minor": 0
      },
      "method": "display_data"
     },
     "metadata": {},
     "output_type": "display_data"
    },
    {
     "name": "stdout",
     "output_type": "stream",
     "text": [
      "t              : [1, 10, 8, -7, -8, -2, -8, 8]\n",
      "zero crossings : 2\n"
     ]
    },
    {
     "data": {
      "text/plain": [
       "null"
      ]
     },
     "execution_count": 1,
     "metadata": {},
     "output_type": "execute_result"
    }
   ],
   "source": [
    "%classpath add jar ../resources/jar/notes.jar\n",
    "\n",
    "import java.util.List;\n",
    "import ca.queensu.cs.cisc124.notes.util.Utils;\n",
    "\n",
    "// counts the number of zero crossings in a list of int\n",
    "// a zero crossing occurs when the sign of two adjacent elements changes\n",
    "// the value of zero is considered to be positive in this example\n",
    "\n",
    "List<Integer> t = Utils.randomIntList(8, -10, 10 + 1);  // 8 random ints between -10 and 10\n",
    "int zeroCrossings = 0;\n",
    "\n",
    "for (int i = 0; i < t.size() - 1; i++) {   // t.size() - 1 needed because we use index i+1 inside the loop\n",
    "    int elem = t.get(i);\n",
    "    int next = t.get(i + 1);\n",
    "    if (elem < 0 && next >= 0 || elem >= 0 && next < 0) {\n",
    "        zeroCrossings++;\n",
    "    }\n",
    "}\n",
    "System.out.println(\"t              : \" + t);\n",
    "System.out.println(\"zero crossings : \" + zeroCrossings);"
   ]
  },
  {
   "cell_type": "markdown",
   "metadata": {},
   "source": [
    "An enhanced for loop can also be used if only one element of the list is required during each iteration:"
   ]
  },
  {
   "cell_type": "code",
   "execution_count": null,
   "metadata": {},
   "outputs": [],
   "source": [
    "%classpath add jar ../resources/jar/notes.jar\n",
    "\n",
    "import java.util.List;\n",
    "import java.util.ArrayList;\n",
    "import ca.queensu.cs.cisc124.notes.util.Utils;\n",
    "\n",
    "// finds all of the negative values in a list\n",
    "\n",
    "List<Integer> t = Utils.randomIntList(8, -10, 10 + 1);  // 8 random ints between -10 and 10\n",
    "List<Integer> neg = new ArrayList<>();\n",
    "\n",
    "for (int i = 0; i < t.size(); i++) {\n",
    "    int elem = t.get(i);\n",
    "    if (elem < 0) {\n",
    "        neg.add(elem);\n",
    "    }\n",
    "}\n",
    "System.out.println(\"t                   : \" + t);\n",
    "System.out.println(\"negative values in t: \" + neg);"
   ]
  },
  {
   "cell_type": "markdown",
   "metadata": {},
   "source": [
    "An iterator-based loop can also be used; see the section [Destructive filtering of a list](#filtering) for details."
   ]
  },
  {
   "cell_type": "markdown",
   "metadata": {},
   "source": [
    "## Searching a list for an element\n",
    "\n",
    "Testing if a list contains a specified element can be done using a loop; simply iterate over the elements of the list testing if each element is equal to the target value:"
   ]
  },
  {
   "cell_type": "code",
   "execution_count": null,
   "metadata": {},
   "outputs": [],
   "source": [
    "%classpath add jar ../resources/jar/notes.jar\n",
    "\n",
    "import java.util.List;\n",
    "import ca.queensu.cs.cisc124.notes.util.Utils;\n",
    "\n",
    "List<String> vowels = Utils.listOf(\"A\", \"E\", \"I\", \"O\", \"U\");\n",
    "\n",
    "// does t have an \"i\"?\n",
    "boolean hasI = false;\n",
    "for (String elem : vowels) {\n",
    "    if (elem.equals(\"i\")) {\n",
    "        hasI = true;\n",
    "        break;\n",
    "    }\n",
    "}\n",
    "System.out.println(\"has an \\\"i\\\"? \" + hasI);\n",
    "\n",
    "\n",
    "// does t have an \"I\"?\n",
    "hasI = false;\n",
    "for (String elem : vowels) {\n",
    "    if (elem.equals(\"I\")) {\n",
    "        hasI = true;\n",
    "        break;\n",
    "    }\n",
    "}\n",
    "System.out.println(\"has an \\\"I\\\"? \" + hasI);"
   ]
  },
  {
   "cell_type": "markdown",
   "metadata": {},
   "source": [
    "It is much easier, however, to use the method `contains`:"
   ]
  },
  {
   "cell_type": "code",
   "execution_count": null,
   "metadata": {},
   "outputs": [],
   "source": [
    "%classpath add jar ../resources/jar/notes.jar\n",
    "\n",
    "import java.util.List;\n",
    "import ca.queensu.cs.cisc124.notes.util.Utils;\n",
    "\n",
    "List<String> vowels = Utils.listOf(\"A\", \"E\", \"I\", \"O\", \"U\");\n",
    "\n",
    "// does t have an \"i\"?\n",
    "boolean hasI = vowels.contains(\"i\");\n",
    "System.out.println(\"has an \\\"i\\\"? \" + hasI);\n",
    "\n",
    "\n",
    "// does t have an \"I\"?\n",
    "hasI = vowels.contains(\"I\");\n",
    "System.out.println(\"has an \\\"I\\\"? \" + hasI);"
   ]
  },
  {
   "cell_type": "markdown",
   "metadata": {},
   "source": [
    "If you need the location of the searched for element use the `indexOf(E element)` method which returns the index of the first element equal to `element` in the list, or -1 if no element in the list is equal to `element`."
   ]
  },
  {
   "cell_type": "markdown",
   "metadata": {},
   "source": [
    "## Removing an element from a list\n",
    "\n",
    "Removing an element from a list is done using one of the two overloaded versions of the `remove` method.\n",
    "\n",
    "The `remove(int index)` method removes the element at the specified index. This version of `remove` is useful when you know the index of the element that you want to remove. For example:"
   ]
  },
  {
   "cell_type": "code",
   "execution_count": null,
   "metadata": {},
   "outputs": [],
   "source": [
    "%classpath add jar ../resources/jar/notes.jar\n",
    "\n",
    "import java.util.List;\n",
    "import ca.queensu.cs.cisc124.notes.util.Utils;\n",
    "\n",
    "List<String> vowels = Utils.listOf(\"A\", \"E\", \"I\", \"O\", \"U\");\n",
    "System.out.println(\"before remove: \" + vowels);\n",
    "\n",
    "// remove \"E\"\n",
    "vowels.remove(1);\n",
    "System.out.println(\"after remove : \" + vowels);"
   ]
  },
  {
   "cell_type": "markdown",
   "metadata": {},
   "source": [
    "The `remove(Object o)` removes the first occurrence of the object `o` in the list if `o` is in the list; the list is unchanged if `o` is not in the list. `remove(Object o)` returns `true` if an element was removed from the list, and `false` otherwise. For example:"
   ]
  },
  {
   "cell_type": "code",
   "execution_count": null,
   "metadata": {},
   "outputs": [],
   "source": [
    "%classpath add jar ../resources/jar/notes.jar\n",
    "\n",
    "import java.util.List;\n",
    "import ca.queensu.cs.cisc124.notes.util.Utils;\n",
    "\n",
    "List<String> vowels = Utils.listOf(\"A\", \"E\", \"I\", \"O\", \"U\");\n",
    "System.out.println(\"before remove   : \" + vowels);\n",
    "\n",
    "// remove \"E\"\n",
    "boolean rem = vowels.remove(\"E\");\n",
    "System.out.println(\"removed \\\"E\\\"?      \" + rem);\n",
    "System.out.println(\"after remove \\\"E\\\": \" + vowels);\n",
    "\n",
    "// remove \"Y\"\n",
    "rem = vowels.remove(\"Y\");\n",
    "System.out.println(\"removed \\\"Y\\\"?      \" + rem);\n",
    "System.out.println(\"after remove \\\"Y\\\": \" + vowels);\n"
   ]
  },
  {
   "cell_type": "markdown",
   "metadata": {},
   "source": [
    "[When is \"y\" a vowel anyway?](https://www.merriam-webster.com/words-at-play/why-y-is-sometimes-a-vowel-usage)"
   ]
  },
  {
   "cell_type": "markdown",
   "metadata": {},
   "source": [
    "<a id=\"filtering\"></a>\n",
    "## Destructive filtering of a list\n",
    "\n",
    "Destructive filtering of a list involves iterating over the elements of a list and removing elements that satisfy some criteria; for instance we might want to remove all of the negative values from a list of numbers. You **must not** use an indexed for loop or an enhanced for loop to perform filtering.\n",
    "\n",
    "Run the next cell to see what happens when a for loop is used to filter the negative values from a list:"
   ]
  },
  {
   "cell_type": "code",
   "execution_count": null,
   "metadata": {},
   "outputs": [],
   "source": [
    "%classpath add jar ../resources/jar/notes.jar\n",
    "\n",
    "import java.util.List;\n",
    "import java.util.ArrayList;\n",
    "import ca.queensu.cs.cisc124.notes.util.Utils;\n",
    "\n",
    "// removes all of the negative values in a list?\n",
    "\n",
    "List<Integer> t = Utils.randomIntList(25, -10, 10 + 1);  // 25 random ints between -10 and 10\n",
    "for (int i = 0; i < t.size(); i++) {\n",
    "    int elem = t.get(i);\n",
    "    if (elem < 0) {\n",
    "        t.remove(i);\n",
    "    }\n",
    "}\n",
    "System.out.println(t);"
   ]
  },
  {
   "cell_type": "markdown",
   "metadata": {},
   "source": [
    "It is possible that the loop works in some cases because the list elements are generated randomly; however, in most cases the loop fails to remove all of the negative values from the list. One of the exercise questions asks the reader to explain why the loop fails to correctly filter the list.\n",
    "\n",
    "Run the next cell to see what happens when an enhanced for loop is used to filter the odd values from a list:"
   ]
  },
  {
   "cell_type": "code",
   "execution_count": null,
   "metadata": {},
   "outputs": [],
   "source": [
    "%classpath add jar ../resources/jar/notes.jar\n",
    "\n",
    "import java.util.List;\n",
    "import java.util.ArrayList;\n",
    "import ca.queensu.cs.cisc124.notes.util.Utils;\n",
    "\n",
    "// removes all of the odd values in a list?\n",
    "\n",
    "List<Integer> t = Utils.randomIntList(25, -10, 10 + 1);  // 25 random ints between -10 and 10\n",
    "for (Integer elem : t) {\n",
    "    if (elem % 2 != 0) {\n",
    "        t.remove(elem);\n",
    "    }\n",
    "}\n",
    "System.out.println(t);"
   ]
  },
  {
   "cell_type": "markdown",
   "metadata": {},
   "source": [
    "It is possible that the loop works in some cases because the list elements are generated randomly; however, in most cases the loop causes an exception to be thrown. This is the expected behaviour in Java because the object that actually makes enhanced for loops possible cannot guarantee its correct behaviour if the list is structurally modified (elements are added or removed) during a loop iteration.\n",
    "\n",
    "The object that makes enhanced for loops possible is called an *iterator*. An iterator is an object that can iterate over the elements of a collection. The interface `Iterator` is the interface that is implemented by classes that represent iterator objects. The `Iterator` interface [is documented here](https://docs.oracle.com/en/java/javase/11/docs/api/java.base/java/util/Iterator.html) and is also shown next:\n",
    "\n",
    "```java\n",
    "public interface Iterator<E> {\n",
    "    void    forEachRemaining(Consumer<? super E>);\n",
    "    boolean hasNext();\n",
    "    E       next();\n",
    "    void    remove();\n",
    "}\n",
    "```\n",
    "\n",
    "The `forEachRemaining` method is used by Java streams. At the time of writing of this notebook, it is unclear if this course will discuss Java streams. Curious readers can start to learn about streams [here](https://docs.oracle.com/javase/tutorial/collections/streams/).\n",
    "\n",
    "The `hasNext` method returns `true` if the iteration has more elements and `false` otherwise.\n",
    "\n",
    "The `next` method returns the next element in the iteration.\n",
    "\n",
    "The `remove` method removes from the underlying collection the last element returned by the iterator (i.e., it removes the element that was most recently returned by `next()`). `remove` can be called only after calling `next()` and it cannot be called more than once for each call to `next()`.\n",
    "\n",
    "The `List` method `iterator()` returns an iterator for a list and the iterator is initialized to start at the beginning of the list.\n",
    "\n",
    "The cookbook way of using an iterator to filter a list is shown in the following example:"
   ]
  },
  {
   "cell_type": "code",
   "execution_count": 2,
   "metadata": {},
   "outputs": [
    {
     "name": "stdout",
     "output_type": "stream",
     "text": [
      "[-2, -6, -4, -4, 2, 9, -5, -6, -10, -5, 1, 6, 0, 10, 5, 10, 10, -4, -6, 10, 10, 9, 1, 2, 8]\n",
      "[-2, -6, -4, -4, 2, -6, -10, 6, 0, 10, 10, 10, -4, -6, 10, 10, 2, 8]\n"
     ]
    },
    {
     "data": {
      "text/plain": [
       "null"
      ]
     },
     "execution_count": 2,
     "metadata": {},
     "output_type": "execute_result"
    }
   ],
   "source": [
    "%classpath add jar ../resources/jar/notes.jar\n",
    "\n",
    "import java.util.List;\n",
    "import java.util.ArrayList;\n",
    "import java.util.Iterator;\n",
    "import ca.queensu.cs.cisc124.notes.util.Utils;\n",
    "\n",
    "// removes all of the odd values in a list?\n",
    "\n",
    "List<Integer> t = Utils.randomIntList(25, -10, 10 + 1);  // 25 random ints between -10 and 10\n",
    "System.out.println(t);\n",
    "\n",
    "for (Iterator<Integer> iter = t.iterator(); iter.hasNext(); /* no loop update expression */) {\n",
    "    Integer elem = iter.next();\n",
    "    if (elem % 2 != 0) {\n",
    "        iter.remove();\n",
    "    }\n",
    "}\n",
    "System.out.println(t);"
   ]
  },
  {
   "cell_type": "markdown",
   "metadata": {},
   "source": [
    "The for loop probably looks a little unusual for new Java programmers. Notice that the loop update expression is missing. This is intentional when working with iterators because we always need to call `next()` at the start of the loop to get the element for the current iteration. If we use `next()` for the update expression then we won't have an element for the first iteration of the loop because the update expression is evaluated at the end of the loop body."
   ]
  },
  {
   "cell_type": "markdown",
   "metadata": {},
   "source": [
    "# Exercises"
   ]
  },
  {
   "cell_type": "markdown",
   "metadata": {},
   "source": [
    "1. The iterator example can be written using a `while` loop:\n",
    "    ```java \n",
    "    %classpath add jar ../resources/jar/notes.jar\n",
    "\n",
    "    import java.util.List;\n",
    "    import java.util.ArrayList;\n",
    "    import java.util.Iterator;\n",
    "    import ca.queensu.cs.cisc124.notes.util.Utils;\n",
    "\n",
    "   // removes all of the odd values in a list?\n",
    "\n",
    "    List<Integer> t = Utils.randomIntList(25, -10, 10 + 1);  // 25 random ints between -10 and 10\n",
    "    System.out.println(t);\n",
    "\n",
    "    Iterator<Integer> iter = t.iterator();\n",
    "    while (iter.hasNext()) {\n",
    "        Integer elem = iter.next();\n",
    "        if (elem % 2 != 0) {\n",
    "            iter.remove();\n",
    "        }\n",
    "    }\n",
    "    System.out.println(t);\n",
    "    ```\n",
    " The `while` loop runs and produces the correct result but the standard advice is to use the for loop shown in the [Destructive filtering of a list](#filtering) section. Can you explain why the for loop is preferred over the while loop?"
   ]
  },
  {
   "cell_type": "markdown",
   "metadata": {},
   "source": [
    "2. If two lists have the same elements but in different order are the two lists equal according to the `equals` method? Provide an example to support your answer."
   ]
  },
  {
   "cell_type": "code",
   "execution_count": null,
   "metadata": {},
   "outputs": [],
   "source": [
    "// Exercise 2\n",
    "import java.util.List;\n",
    "import java.util.ArrayList;\n"
   ]
  },
  {
   "cell_type": "markdown",
   "metadata": {},
   "source": [
    "3. Suppose that you have two lists of strings and we want to know if both lists are equal ignoring the order of the strings in the list. How can you do this? Provide an example to support your answer. *Hint: Sort the two lists*"
   ]
  },
  {
   "cell_type": "code",
   "execution_count": null,
   "metadata": {},
   "outputs": [],
   "source": [
    "// Exercise 3\n",
    "import java.util.List;\n",
    "import java.util.ArrayList;\n"
   ]
  },
  {
   "cell_type": "markdown",
   "metadata": {},
   "source": [
    "4. Suppose that you have a list of integer values and you want to know if the list is sorted from smallest to largest value. How can you do this without altering the list? Provide an example to support your answer. *Hint: Use a loop.*"
   ]
  },
  {
   "cell_type": "code",
   "execution_count": null,
   "metadata": {},
   "outputs": [],
   "source": [
    "// Exercise 4\n",
    "import java.util.List;\n",
    "import java.util.ArrayList;\n"
   ]
  },
  {
   "cell_type": "markdown",
   "metadata": {},
   "source": [
    "5. Suppose that you have a list of integer values and you want to know if the list contains all unique values. How can you do this without altering the list or using another class? Provide an example to support your answer. *Hint: Use a nested loop.*"
   ]
  },
  {
   "cell_type": "code",
   "execution_count": null,
   "metadata": {},
   "outputs": [],
   "source": [
    "// Exercise 5\n",
    "import java.util.List;\n",
    "import java.util.ArrayList;\n"
   ]
  },
  {
   "cell_type": "markdown",
   "metadata": {},
   "source": [
    "6. A [simple substitution cipher](https://en.wikipedia.org/wiki/Substitution_cipher) is a simple method of encrypting a string. For each character in the string, the character in the encrypted string is computed by substituting one character for another character. For example, to encrypt the string `\"cat\"` we would compute the new string where the `'c'` is replaced with the third element of `cipher`, the `'a'`is replaced with the third element of `cipher`, and the `'t'` is replaced with the twenty'th element of `cipher`. Encrypt the string `message` in the cell below. You will probably want to use the `indexOf` method."
   ]
  },
  {
   "cell_type": "code",
   "execution_count": null,
   "metadata": {},
   "outputs": [],
   "source": [
    "%classpath add jar ../resources/jar/notes.jar\n",
    "\n",
    "import java.util.List;\n",
    "import java.util.ArrayList;\n",
    "import java.util.Collections;\n",
    "import ca.queensu.cs.cisc124.notes.util.Utils;\n",
    "\n",
    "List<Character> alpha = Utils.listOf('a', 'b', 'c', 'd', 'e',\n",
    "                                    'f', 'g', 'h', 'i', 'j',\n",
    "                                    'k', 'l', 'm', 'n', 'o',\n",
    "                                    'p', 'q', 'r', 's', 't',\n",
    "                                    'u', 'v', 'w', 'x', 'y',\n",
    "                                    'z');\n",
    "List<Character> cipher = new ArrayList<>(alpha);\n",
    "Collections.shuffle(cipher);\n",
    "System.out.println(cipher);\n",
    "\n",
    "String message = \"this is a terrible encryption method\";\n"
   ]
  },
  {
   "cell_type": "markdown",
   "metadata": {},
   "source": [
    "7. The selection sort algorithm can be used to create a new list containing the elements of another list in sorted order. The easiest version of selection sort to implement destroys the original list. \n",
    "    ```\n",
    "    create an empty list named sorted\n",
    "    while orig is not empty {\n",
    "        find the smallest element x in orig\n",
    "        add x to the end of sorted\n",
    "        remove x from orig\n",
    "    }\n",
    "    ```\n",
    " Implement the selection sort algorithm as it is described above in the cell below to sort the list `orig`. Use the method `Collections.min` to find the smallest element in the list."
   ]
  },
  {
   "cell_type": "code",
   "execution_count": null,
   "metadata": {},
   "outputs": [],
   "source": [
    "%classpath add jar ../resources/jar/notes.jar\n",
    "\n",
    "// Exercise 7\n",
    "\n",
    "import java.util.List;\n",
    "import java.util.ArrayList;\n",
    "import ca.queensu.cs.cisc124.notes.util.Utils;\n",
    "\n",
    "List<Integer> orig = Utils.randomIntList(10, -50, 50);\n",
    "System.out.println(orig);\n"
   ]
  },
  {
   "cell_type": "markdown",
   "metadata": {},
   "source": [
    "8. Usually it is not acceptable to destroy the list that you want to sort. A better implementation of selection can be described as follows:\n",
    "    1. find the smallest element in the list\n",
    "    2. swap the first element and smallest element; this moves the smallest element to the front of the list\n",
    "    3. find the smallest element in the sublist starting at the *second* element\n",
    "    4. swap the first element of the sublist and smallest element of the sublist; this moves the smallest element of the sublist to the front of the sublist\n",
    "    5. find the smallest element in the sublist starting at the *third* element\n",
    "    6. swap the first element of the sublist and smallest element of the sublist; this moves the smallest element of the sublist to the front of the sublist\n",
    "    7. repeat steps 5 and 6 until all of the elements of the list have been sorted\n",
    "    \n",
    "  Implement the selection sort algorithm as it is described above in the cell below to sort the list `orig`. Use the `List` method `sublist(int, int)` to get a sublist of a list. Use the method `Collections.min` to find the smallest element in a sublist."
   ]
  },
  {
   "cell_type": "code",
   "execution_count": null,
   "metadata": {},
   "outputs": [],
   "source": [
    "%classpath add jar ../resources/jar/notes.jar\n",
    "\n",
    "// Exercise 8\n",
    "\n",
    "import java.util.List;\n",
    "import java.util.ArrayList;\n",
    "import ca.queensu.cs.cisc124.notes.util.Utils;\n",
    "\n",
    "List<Integer> orig = Utils.randomIntList(10, -50, 50);\n",
    "System.out.println(orig);\n"
   ]
  },
  {
   "cell_type": "markdown",
   "metadata": {},
   "source": [
    "9. Use an iterator based loop to remove all the strings that are shorter than 4 characters from the list `s` in the cell below:"
   ]
  },
  {
   "cell_type": "code",
   "execution_count": null,
   "metadata": {},
   "outputs": [],
   "source": [
    "%classpath add jar ../resources/jar/notes.jar\n",
    "\n",
    "// Exercise 9\n",
    "\n",
    "import java.util.List;\n",
    "import java.util.ArrayList;\n",
    "import ca.queensu.cs.cisc124.notes.util.Utils;\n",
    "\n",
    "List<String> s = Utils.listOf(\"banana\", \"egg\", \"kimchi\",\n",
    "                                \"avocaodo\", \"phat kaphrao\", \"msg\",\n",
    "                                \"rice\", \"cilantro\", \"pea\");\n",
    "System.out.println(s);"
   ]
  },
  {
   "cell_type": "markdown",
   "metadata": {},
   "source": [
    "10. A common task that occurs in science and engineering problems is detecting unusual values in a set of repeated measurements. For example, a mobile robot might have an inexpensive laser distance measuring device that it uses to measure the distance to some object of interest. It takes many measurements and computes the average value of the measurements to estimate the distance to the object. Because of many factors, there may be measurements that are very far from the true distance. A simple way to detect such measurements is to look for measurements that are more than three standard deviations away from the average value. Do some research to find out how to compute the standard deviation of a set of measurements. Then write some code in the following cell that removes all of the values in the list `x` that are more than three standard deviations from the average value. Note that because the values are generated randomly it is possible that there are no unusual values in `x` for any given run of the cell."
   ]
  },
  {
   "cell_type": "code",
   "execution_count": null,
   "metadata": {},
   "outputs": [],
   "source": [
    "%classpath add jar ../resources/jar/notes.jar\n",
    "\n",
    "// Exercise 10\n",
    "\n",
    "import java.util.List;\n",
    "import java.util.ArrayList;\n",
    "import java.util.Collections;\n",
    "import ca.queensu.cs.cisc124.notes.util.Utils;\n",
    "\n",
    "List<Double> x = Utils.randomDoubleList(50, 125.0, 135.0);\n",
    "List<Double> y = Utils.randomDoubleList(5, 75.0, 185.0);\n",
    "x.addAll(y);\n",
    "Collections.shuffle(x);\n",
    "System.out.println(x);\n"
   ]
  }
 ],
 "metadata": {
  "kernelspec": {
   "display_name": "Java",
   "language": "java",
   "name": "java"
  },
  "language_info": {
   "codemirror_mode": "text/x-java",
   "file_extension": ".java",
   "mimetype": "",
   "name": "Java",
   "nbconverter_exporter": "",
   "version": "11.0.1-internal"
  },
  "toc": {
   "base_numbering": 1,
   "nav_menu": {},
   "number_sections": false,
   "sideBar": false,
   "skip_h1_title": false,
   "title_cell": "Table of Contents",
   "title_sidebar": "Contents",
   "toc_cell": false,
   "toc_position": {},
   "toc_section_display": false,
   "toc_window_display": false
  }
 },
 "nbformat": 4,
 "nbformat_minor": 4
}
