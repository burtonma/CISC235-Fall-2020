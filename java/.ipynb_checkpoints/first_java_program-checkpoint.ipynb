{
 "cells": [
  {
   "cell_type": "markdown",
   "metadata": {},
   "source": [
    "<a id=\"notebook_id\"></a>\n",
    "# Our first Java program\n",
    "\n",
    "The first program that many programmers learn to create when learning a new language is a program that displays the message `Hello, world!`. The \"Hello, world!\" program is so common that it has its own [Wikipedia webpage](https://en.wikipedia.org/wiki/%22Hello,_World!%22_program).\n",
    "\n",
    "In Python, the \"Hello, world!\" program can be written in a single line:\n",
    "\n",
    "```python\n",
    "print('Hello, world!')\n",
    "```\n",
    "\n",
    "A Python programmer might take the following steps to create and run the \"Hello, world!\" program:\n",
    "\n",
    "1. Create a plain-text file containing the single line of Python code shown above.\n",
    "2. Save the plain-text file using the filename `hello_world.py`. The choice of filename *is not* important.\n",
    "3. Run the program using the Python interpreter.\n",
    "\n",
    "A modern Python IDE (integrated development environment) will allow the programmer to perform all of these steps using the IDE."
   ]
  },
  {
   "cell_type": "markdown",
   "metadata": {},
   "source": [
    "## Editing and running Python code in a Jupyter notebook\n",
    "\n",
    "\n",
    "The notebooks written for this course use the [beakerx](http://beakerx.com/) kernels. A kernel is a computational engine that allows a Jupyter notebook server to run code included in a Jupyter notebook. A different kernel is required for each programming language.\n",
    "\n",
    "Many Jupyter notebooks use a single programming language (often Python). The notebooks for this course use the beakerx Java kernel. A feature of the beakerx kernels is that they support polyglot (multiple languages) programming which allows for Python code to be run and edited in a Java kernel notebook.\n",
    "\n",
    "To use a Python kernel in a Java kernel notebook the command:\n",
    "```\n",
    "%%python\n",
    "```\n",
    "must appear at the beginning of a cell containing Python code.\n",
    "\n",
    "A runnable and editable version of the Python \"Hello, world!\" program appears in the following cell. To run the program, select the cell by left-clicking the mouse anywhere in the cell and then click on the `Run` button in the Jupyter toolbar near the top of this notebook. Alternatively, select the cell and press `Shift-Enter` to run the cell. If this is the first time that you have run the cell, there will be brief pause while the Python kernel starts and then the message `Hello, world!` will appear."
   ]
  },
  {
   "cell_type": "code",
   "execution_count": null,
   "metadata": {},
   "outputs": [],
   "source": [
    "%%python\n",
    "\n",
    "print('Hello, world!')"
   ]
  },
  {
   "cell_type": "markdown",
   "metadata": {},
   "source": [
    "The reader can edit the Python code in the cell above by left-clicking the mouse in the cell. A cursor should appear and the code in the cell can be edited. After editing the cell, the code can be run by using the `Run` button or by pressing `Shift-Enter`.\n",
    "\n",
    "#### Exercises\n",
    "\n",
    "1. Edit the code in the Python cell containing the \"Hello, world!\" program so that it outputs a different message. Run the cell and verify that the expected message is output.\n",
    "\n",
    "2. Edit the code in the Python cell containing the \"Hello, world!\" program so that it contains an error of any kind. Run the cell and observe what happens."
   ]
  },
  {
   "cell_type": "markdown",
   "metadata": {},
   "source": [
    "## Editing and running Java code in a Jupyter notebook\n",
    "\n",
    "Java is the default kernel for the notebooks used in this course so no special Jupyter commands are required to use Java code in a Java cell.\n",
    "\n",
    "A version of the Java \"Hello, world!\" program appears in the following cell. To run the program, select the cell by left-clicking the mouse anywhere in the cell and then click on the Run button in the Jupyter toolbar near the top of this notebook. Alternatively, select the cell and press Shift-Enter to run the cell. Try running the cell below now."
   ]
  },
  {
   "cell_type": "code",
   "execution_count": null,
   "metadata": {},
   "outputs": [],
   "source": [
    "class HelloWorld {\n",
    "    \n",
    "    public static void main(String... args) {\n",
    "        System.out.println(\"Hello, world!\");\n",
    "    }\n",
    "}"
   ]
  },
  {
   "cell_type": "markdown",
   "metadata": {},
   "source": [
    "Running the cell above produces output resembling `com.twosigma.beaker.javash.bkrb946fae2.HelloWorld` (the `bkrb946fae2` part of the output will likely be different). What has happened is that running the cell has caused the program to be compiled but not actually run. To compile and run the program in Jupyter, we need to manually invoke the `main` method ourselves. This requires running a second cell that invokes the `main` method:"
   ]
  },
  {
   "cell_type": "code",
   "execution_count": 7,
   "metadata": {},
   "outputs": [
    {
     "name": "stdout",
     "output_type": "stream",
     "text": [
      "Hello, world!\n"
     ]
    }
   ],
   "source": [
    "HelloWorld.main();"
   ]
  },
  {
   "cell_type": "markdown",
   "metadata": {},
   "source": [
    "Running the cell above causes the \"Hello, world!\" program to run and outputs the message `Hello, world!`."
   ]
  },
  {
   "cell_type": "markdown",
   "metadata": {},
   "source": [
    "**Exercises**\n",
    "\n",
    "1. The Java \"Hello, world!\" program and the cell containing the `main` method invocation are repeated below for convenience. Edit the Java \"Hello, world!\" program so that it outputs a different message. Run both cells and verify that the expected message is output."
   ]
  },
  {
   "cell_type": "code",
   "execution_count": null,
   "metadata": {},
   "outputs": [],
   "source": [
    "class HelloWorld {\n",
    "    \n",
    "    public static void main(String... args) {\n",
    "        System.out.println(\"Hello, world!\");\n",
    "    }\n",
    "}"
   ]
  },
  {
   "cell_type": "code",
   "execution_count": null,
   "metadata": {},
   "outputs": [],
   "source": [
    "HelloWorld.main();"
   ]
  },
  {
   "cell_type": "markdown",
   "metadata": {},
   "source": [
    "### Why is there an output cell with the word `null` in it?\n",
    "\n",
    "After running the Java \"Hello, world!\" program in this Jupyter notebook an output cell appears with the word `null` in it. Jupyter uses an output cell to show the result returned by an input cell (in this case, the input cell is the cell containing `HelloWorld.main(null)`). If the input cell returns no value then the output cell displays the result `null` (which is the Java keyword indicating 'no object'). Displaying `null` instead of displaying no output at all was a design decision made by the creators of the beakerx kernels.\n",
    "\n",
    "It is possible to disable the display of `null` by toggling a beakerx built-in flag by including the following line in a Java cell:"
   ]
  },
  {
   "cell_type": "code",
   "execution_count": 4,
   "metadata": {},
   "outputs": [],
   "source": [
    "com.twosigma.beakerx.kernel.Kernel.showNullExecutionResult = false;"
   ]
  },
  {
   "cell_type": "markdown",
   "metadata": {},
   "source": [
    "Running the previous cell will disable the display of `null` when no value is returned by a Java cell. If you now re-run the cell containing `HelloWorld.main(null);` you will see the message `Hello, world!` and no output cell will appear.\n",
    "\n",
    "The remaining notebooks in this course will include a cell to disable the display of `null` at the beginning of the notebook. The reader should run this cell if seeing the `null` result is bothersome."
   ]
  },
  {
   "cell_type": "markdown",
   "metadata": {},
   "source": []
  }
 ],
 "metadata": {
  "kernelspec": {
   "display_name": "Java",
   "language": "java",
   "name": "java"
  },
  "language_info": {
   "codemirror_mode": "text/x-java",
   "file_extension": ".java",
   "mimetype": "",
   "name": "Java",
   "nbconverter_exporter": "",
   "version": "11.0.1-internal"
  },
  "toc": {
   "base_numbering": 1,
   "nav_menu": {},
   "number_sections": false,
   "sideBar": false,
   "skip_h1_title": false,
   "title_cell": "Table of Contents",
   "title_sidebar": "Contents",
   "toc_cell": false,
   "toc_position": {},
   "toc_section_display": false,
   "toc_window_display": false
  }
 },
 "nbformat": 4,
 "nbformat_minor": 4
}
