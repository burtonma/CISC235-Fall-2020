{
 "cells": [
  {
   "cell_type": "code",
   "execution_count": null,
   "metadata": {},
   "outputs": [],
   "source": [
    "// run this cell to prevent Jupyter from displaying the null output cell\n",
    "com.twosigma.beakerx.kernel.Kernel.showNullExecutionResult = false;"
   ]
  },
  {
   "cell_type": "markdown",
   "metadata": {},
   "source": [
    "<a id=\"notebook_id\"></a>\n",
    "# Maps\n",
    "\n",
    "A Java `Map` is similar to a Python dictionary. A `Map` models a group of elements called *values* that are accessed using *keys* where no key may be duplicated (i.e., the keys form a set). A map can be thought of as a 2-column table where the elements of the first column are unique; for example, a list can be thought of as a map where the keys are indexes and the values are the elements of the list. Another example of a map are the months of the year (the keys) and their corresponding number of days (the values):\n",
    "\n",
    "|key| value|\n",
    "|:-|:-|\n",
    "| January | 31 |\n",
    "| February | 28? |\n",
    "| March | 31 |\n",
    "| April | 30 |\n",
    "| May | 31 |\n",
    "| June | 30 |\n",
    "| July | 31 |\n",
    "| August | 31 |\n",
    "| September | 30 |\n",
    "| October | 31 |\n",
    "| November | 30 |\n",
    "| December | 31 |\n",
    "\n",
    "Notice that there is no restriction on the uniqueness of the values. Each row of the table is made up of a key and its associated value; a key-value pair is called an *entry* of the map.\n",
    "\n",
    "Other examples of maps are:\n",
    "\n",
    "|Description|key|value|\n",
    "|:-|:-|:-|\n",
    "| mathematical function $y = f(x)$ | $x$ | $y$ |\n",
    "| dictionary | word | list of definitions |\n",
    "| provincial capitals | province | capital city |\n",
    "| book index | keyword | set of pages |\n",
    "| marks in a course | student number | list of marks |\n",
    "| marks in a course | student number | map of marked items to marks |\n",
    "\n",
    "Maps in Java use a different interface than lists and sets; the `Map` interface is [documented here](https://docs.oracle.com/en/java/javase/11/docs/api/java.base/java/util/Map.html) but the API is somewhat difficult to understand for new Java programmers.\n",
    "\n",
    "The Java standard library provides several types of maps. The `HashMap` is usually the faster implementation but the order of the entries in the map is unpredictable. The `TreeMap` is usually the slower implementation but maintains its entries in sorted order where the sorting is done using the keys.\n",
    "\n",
    "This notebook focuses on using `HashMap`."
   ]
  },
  {
   "cell_type": "markdown",
   "metadata": {},
   "source": [
    "## Map variables\n",
    "\n",
    "A map is parameterized by two types: the key type and the value type. Both types must be specified separated by a comma and inside a pair of angled brackets `<>`. Declaring variables of type `Map` or `HashMap` can be done like so:"
   ]
  },
  {
   "cell_type": "code",
   "execution_count": null,
   "metadata": {},
   "outputs": [],
   "source": [
    "import java.util.Map;\n",
    "import java.util.List;\n",
    "import java.util.Set;\n",
    "\n",
    "// a possible map for the month example\n",
    "Map<String, Integer> months;\n",
    "\n",
    "// a possible map for the mathematical function example\n",
    "Map<Double, Double> f;\n",
    "\n",
    "// a possible map for the dictionary example\n",
    "Map<String, List<String>> dict;\n",
    "\n",
    "// a possible map for the book index example\n",
    "Map<String, Set<Integer>> bookIndex;"
   ]
  },
  {
   "cell_type": "markdown",
   "metadata": {},
   "source": [
    "## Creating a `HashMap`\n",
    "\n",
    "`HashMap` is a class which means that instances are created using the `new` operator and a constructor. The no-argument constructor creates an empty `HashMap`; for example:"
   ]
  },
  {
   "cell_type": "code",
   "execution_count": null,
   "metadata": {},
   "outputs": [],
   "source": [
    "import java.util.Map;\n",
    "import java.util.HashMap;\n",
    "\n",
    "Map<String, Integer> months = new HashMap<>();\n",
    "System.out.println(months);"
   ]
  },
  {
   "cell_type": "markdown",
   "metadata": {},
   "source": [
    "## The size of a map\n",
    "\n",
    "The size of a map is the number of entries in the map. A map created using the no-argument constructor is the empty map and has a size of zero. The size of a map is returned by the method `size`:"
   ]
  },
  {
   "cell_type": "code",
   "execution_count": null,
   "metadata": {},
   "outputs": [],
   "source": [
    "import java.util.Map;\n",
    "import java.util.HashMap;\n",
    "\n",
    "Map<String, Integer> months = new HashMap<>();\n",
    "int sz = months.size();\n",
    "\n",
    "System.out.println(\"size: \" + sz);;"
   ]
  },
  {
   "cell_type": "markdown",
   "metadata": {},
   "source": [
    "## Putting an entry into a map\n",
    "\n",
    "The method `put(K key, V value)` associates the specified value with the specified key in the map. If the map previously contained a mapping for the key, the old value is replaced by the specified value. The method returns the previous value associated with key, or `null` if there was no mapping for key.\n",
    "\n",
    "Run the following cell to create a map of month names to number of days in the month."
   ]
  },
  {
   "cell_type": "code",
   "execution_count": null,
   "metadata": {},
   "outputs": [],
   "source": [
    "import java.util.Map;\n",
    "import java.util.HashMap;\n",
    "\n",
    "Map<String, Integer> months = new HashMap<>();\n",
    "\n",
    "months.put(\"January\", 31);\n",
    "months.put(\"February\", 28);\n",
    "months.put(\"March\", 31);\n",
    "months.put(\"April\", 30);\n",
    "months.put(\"May\", 31);\n",
    "months.put(\"June\", 30);\n",
    "months.put(\"July\", 31);\n",
    "months.put(\"August\", 31);\n",
    "months.put(\"September\", 30);\n",
    "months.put(\"October\", 31);\n",
    "months.put(\"November\", 30);\n",
    "months.put(\"December\", 31);\n",
    "\n",
    "System.out.println(months);"
   ]
  },
  {
   "cell_type": "markdown",
   "metadata": {},
   "source": [
    "Notice that the order of the entries in the map is different than the order in which they were inserted. Like `HashSet`, `HashMap` makes no guarantees about the ordering of the entries.\n",
    "\n",
    "In a leap year, February has 29 days. We can change the value associated with the key `\"February\"` and get the previous value:"
   ]
  },
  {
   "cell_type": "code",
   "execution_count": null,
   "metadata": {},
   "outputs": [],
   "source": [
    "%classpath add jar ../resources/jar/notes.jar\n",
    "\n",
    "import java.util.Map;\n",
    "\n",
    "import ca.queensu.cs.cisc124.notes.util.Utils;\n",
    "\n",
    "Map<String, Integer> months = Utils.monthMap();\n",
    "System.out.println(\"months (non-leap year): \" + months);\n",
    "\n",
    "Integer oldValue = months.put(\"February\", 29);\n",
    "System.out.println(\"old number of days    : \" + oldValue);\n",
    "System.out.println(\"months (leap year)    : \" + months);\n"
   ]
  },
  {
   "cell_type": "markdown",
   "metadata": {},
   "source": [
    "Notice that the map returned by the method `Utils.monthMap` has the months in the order that they occur chronologically during a year. The method returns an instance of a `LinkedHashMap` which maintains its entries in insertion order; the method adds the entries to the map in chronological order."
   ]
  },
  {
   "cell_type": "markdown",
   "metadata": {},
   "source": [
    "## Getting an entry from a map\n",
    "\n",
    "The method `get(Object key)` returns the value to which the specified key is mapped, or `null` if the map contains no mapping for the key."
   ]
  },
  {
   "cell_type": "code",
   "execution_count": null,
   "metadata": {},
   "outputs": [],
   "source": [
    "%classpath add jar ../resources/jar/notes.jar\n",
    "\n",
    "import java.util.Map;\n",
    "\n",
    "import ca.queensu.cs.cisc124.notes.util.Utils;\n",
    "\n",
    "Map<String, Integer> months = Utils.monthMap();\n",
    "\n",
    "// number of days in September\n",
    "String key = \"September\";\n",
    "Integer val = months.get(key);\n",
    "System.out.printf(\"%s has %d days%n\", key, val);\n",
    "\n",
    "// number of days in Movember\n",
    "key = \"Movember\";\n",
    "val = months.get(key);\n",
    "System.out.printf(\"%s has %d days%n\", key, val);"
   ]
  },
  {
   "cell_type": "markdown",
   "metadata": {},
   "source": [
    "One common computational problem is to count the number of times each object occurs in a collection. For example, creating a [word cloud](https://en.wikipedia.org/wiki/Tag_cloud) based on word frequency requires counting the number of times each word appears in a body of text. The following cell shows how to use a map to compute the word frequency for the first verse of K'naan's song *Fatima*:"
   ]
  },
  {
   "cell_type": "code",
   "execution_count": null,
   "metadata": {},
   "outputs": [],
   "source": [
    "%classpath add jar ../resources/jar/notes.jar\n",
    "\n",
    "import java.util.List;\n",
    "import java.util.Map;\n",
    "import java.util.TreeMap;\n",
    "\n",
    "import ca.queensu.cs.cisc124.notes.util.Utils;\n",
    "\n",
    "List<String> lines = Utils.listOf(\n",
    "    \"Picture the morning taste and devour\", \n",
    "    \"We rise early pace up the hour\",\n",
    "    \"Streets is bustlin' hustlin' their heart out\",\n",
    "    \"You can\\'t have the sweet with no sour\",\n",
    "    \"Spices, herbs, the sweet scent of flower\",\n",
    "    \"She came out precisely the hour\",\n",
    "    \"Clouds disappear, the sun shows the power\",\n",
    "    \"No chance of a probable shower\",\n",
    "    \"I fell in love with my neighbors\\' daughter\",\n",
    "    \"I wanted to protect and support her\",\n",
    "    \"Never mind I\\'m just twelve and a quarter\",\n",
    "    \"I had dreams beyond our border\");\n",
    "\n",
    "// map of word to word count\n",
    "Map<String, Integer> wordCount = new TreeMap<>();\n",
    "\n",
    "for (String line : lines) {\n",
    "    String[] words = line.split(\"[ ,]+\");  // split words around spaces and commas\n",
    "    for (String word : words) {\n",
    "        word = word.toLowerCase();\n",
    "        Integer count = wordCount.get(word);\n",
    "        \n",
    "       // update the map\n",
    "        if (count == null) {\n",
    "           // word is not a key in the map, count for word is 1\n",
    "            wordCount.put(word, 1);\n",
    "        }\n",
    "        else {\n",
    "           // word is a key in the map, count for word is 1 + old count\n",
    "            wordCount.put(word, 1 + count);\n",
    "        }\n",
    "    }\n",
    "}\n",
    "System.out.println(wordCount);"
   ]
  },
  {
   "cell_type": "markdown",
   "metadata": {},
   "source": [
    "## Iterating over the entries of a map\n",
    "\n",
    "Maps allow users to iterate over the keys, over the values, and over the entries of the map.\n",
    "\n",
    "The method `keySet` returns a `Set` containing the keys of the map. The returned set can be used to remove entries from the map by removing elements from the set, but the returned set *cannot* be used to add entries to the map by adding elements to the set. Iterating over the returned set allows the user to get the values associated with each key. For example, in the past when oysters were exclusively harvested in the wild it was advised that people should eat oysters only in the months with names containing the letter \"r\":"
   ]
  },
  {
   "cell_type": "code",
   "execution_count": null,
   "metadata": {},
   "outputs": [],
   "source": [
    "%classpath add jar ../resources/jar/notes.jar\n",
    "\n",
    "import java.util.Map;\n",
    "import java.util.Set;\n",
    "\n",
    "import ca.queensu.cs.cisc124.notes.util.Utils;\n",
    "\n",
    "Map<String, Integer> months = Utils.monthMap();\n",
    "\n",
    "Set<String> keys = months.keySet();\n",
    "for (String month : keys) {\n",
    "    if (month.contains(\"r\")) {\n",
    "        int days = months.get(month);\n",
    "        System.out.printf(\"%s has %d days to eat oysters%n\", month, days);\n",
    "    }\n",
    "}"
   ]
  },
  {
   "cell_type": "markdown",
   "metadata": {},
   "source": [
    "The method `values` returns a collection containing the values of the map. Like the set returned by `keySet`, the collection returned by `values` can be used to remove entries from the map by removing elements from the collection, but the returned collection *cannot* be used to add entries to the map by adding elements to the collection. Iterating over the returned collections allows the user to access the values of the map but there is no easy way to get the key associated with the value.\n",
    "For example, we can compute the sum of the days in each month like so:"
   ]
  },
  {
   "cell_type": "code",
   "execution_count": null,
   "metadata": {},
   "outputs": [],
   "source": [
    "%classpath add jar ../resources/jar/notes.jar\n",
    "\n",
    "import java.util.Collection;\n",
    "import java.util.Map;\n",
    "\n",
    "import ca.queensu.cs.cisc124.notes.util.Utils;\n",
    "\n",
    "Map<String, Integer> months = Utils.monthMap();\n",
    "\n",
    "Collection<Integer> values = months.values();\n",
    "int daysPerYear = 0;\n",
    "for (Integer val : values) {\n",
    "    daysPerYear += val;\n",
    "}\n",
    "System.out.println(\"days per non-leap year: \" + daysPerYear);"
   ]
  },
  {
   "cell_type": "markdown",
   "metadata": {},
   "source": [
    "The method `entrySet` returns a `Set` containing the entries of the map. The returned set can be used to remove entries from the map by removing elements from the set, but the returned set *cannot* be used to add entries to the map by adding elements to the set. Iterating over the returned set allows the user to get both the keys and the values associated with each key.\n",
    "\n",
    "Entries are represented as instances of the interface `Map.Entry` which [is documented here](https://docs.oracle.com/en/java/javase/11/docs/api/java.base/java/util/Map.Entry.html). The `Entry` interface is an interface defined *inside* of the `Map` interface."
   ]
  },
  {
   "cell_type": "code",
   "execution_count": null,
   "metadata": {},
   "outputs": [],
   "source": [
    "import java.util.Map;\n",
    "import java.util.Set;\n",
    "\n",
    "import ca.queensu.cs.cisc124.notes.util.Utils;\n",
    "\n",
    "Map<String, Integer> months = Utils.monthMap();\n",
    "\n",
    "Set<Map.Entry<String, Integer>> entries = months.entrySet();\n",
    "for (Map.Entry<String, Integer> entry : entries) {\n",
    "    String key = entry.getKey();\n",
    "    Integer value = entry.getValue();\n",
    "    System.out.printf(\"entry: %s, key: %s, value: %s%n\", entry, key, value);\n",
    "}"
   ]
  },
  {
   "cell_type": "markdown",
   "metadata": {},
   "source": [
    "A slightly more sophisticated example of using the entry set is printing the months that have an odd number of days:"
   ]
  },
  {
   "cell_type": "code",
   "execution_count": null,
   "metadata": {},
   "outputs": [],
   "source": [
    "import java.util.Map;\n",
    "import java.util.Set;\n",
    "\n",
    "import ca.queensu.cs.cisc124.notes.util.Utils;\n",
    "\n",
    "Map<String, Integer> months = Utils.monthMap();\n",
    "\n",
    "Set<Map.Entry<String, Integer>> entries = months.entrySet();\n",
    "for (Map.Entry<String, Integer> entry : entries) {\n",
    "    String key = entry.getKey();\n",
    "    Integer value = entry.getValue();\n",
    "    if (value % 2 != 0) {\n",
    "        System.out.printf(\"%s has an odd number of days: %s%n\", key, value);\n",
    "    }\n",
    "}"
   ]
  },
  {
   "cell_type": "markdown",
   "metadata": {},
   "source": [
    "## Searching a map for a key or value\n",
    "\n",
    "Maps allow users to search for keys and the search for values.\n",
    "\n",
    "The method `containsKey(Object key)` returns `true` if the map contains a mapping for the specified key, and returns `false` otherwise.\n",
    "\n",
    "The method `containsValue(Object value)` returns `true` if the map maps one or more keys to the specified value, and returns `false` otherwise."
   ]
  },
  {
   "cell_type": "code",
   "execution_count": null,
   "metadata": {},
   "outputs": [],
   "source": [
    "import java.util.Map;\n",
    "import java.util.HashMap;\n",
    "\n",
    "// map of courses to grades\n",
    "Map<String, String> grades = new HashMap<>();\n",
    "grades.put(\"CISC110\", \"B+\");\n",
    "grades.put(\"CISC121\", \"A-\");\n",
    "grades.put(\"MATH110\", \"C+\");\n",
    "grades.put(\"MATH121\", \"A+\");\n",
    "grades.put(\"PHAR100\", \"A+\");\n",
    "grades.put(\"ARTH101\", \"B-\");\n",
    "grades.put(\"INUK101\", \"B+\");\n",
    "grades.put(\"ASTR101\", \"A-\");\n",
    "\n",
    "// did the student take and pass CISC121?\n",
    "boolean tf = grades.containsKey(\"CISC121\") && !grades.get(\"CISC121\").equals(\"F\");\n",
    "System.out.println(\"took and passed CISC121? : \" + tf);\n",
    "\n",
    "// did the student take and pass CISC124?\n",
    "tf = grades.containsKey(\"CISC124\") && !grades.get(\"CISC124\").equals(\"F\");\n",
    "System.out.println(\"took and passed CISC124? : \" + tf);\n",
    "\n",
    "// does the student have any A+ grades?\n",
    "tf = grades.containsValue(\"A+\");\n",
    "System.out.println(\"has a grade of A+? : \" + tf);\n",
    "\n",
    "// does the student have any failing grades?\n",
    "tf = grades.containsValue(\"F\");\n",
    "System.out.println(\"has a grade of F? : \" + tf);\n"
   ]
  },
  {
   "cell_type": "markdown",
   "metadata": {},
   "source": [
    "## Removing an entry from a map\n",
    "\n",
    "The method `remove(Object key)` removes the mapping for a key from the map if it is present and returns the value that was previously stored in the map; if the key is not present then the map is unchanged and `null` is returned.\n",
    "\n",
    "The method `remove(Object key, Object value)` removes the entry for the specified key only if it is currently mapped to the specified value; the method returns `true` if an entry was removed and returns `false` otherwise."
   ]
  },
  {
   "cell_type": "code",
   "execution_count": null,
   "metadata": {},
   "outputs": [],
   "source": [
    "import java.util.Map;\n",
    "import java.util.HashMap;\n",
    "\n",
    "// map of courses to grades\n",
    "Map<String, String> grades = new HashMap<>();\n",
    "grades.put(\"CISC110\", \"B+\");\n",
    "grades.put(\"CISC121\", \"A-\");\n",
    "grades.put(\"MATH110\", \"C+\");\n",
    "grades.put(\"MATH121\", \"A+\");\n",
    "grades.put(\"PHAR100\", \"A+\");\n",
    "grades.put(\"ARTH101\", \"B-\");\n",
    "grades.put(\"INUK101\", \"B+\");\n",
    "grades.put(\"ASTR101\", \"A-\");\n",
    "grades.put(\"CISC124\", \"in progress\");\n",
    "grades.put(\"CISC202\", \"in progress\");   // not required because student has MATH110\n",
    "grades.put(\"CISC203\", \"in progress\");\n",
    "grades.put(\"CISC204\", \"in progress\");\n",
    "grades.put(\"STAT263\", \"in progress\");\n",
    "\n",
    "System.out.println(\"taking CISC202? : \" + grades.containsKey(\"CISC202\"));\n",
    "\n",
    "// drop CISC202\n",
    "grades.remove(\"CISC202\");\n",
    "System.out.println(\"taking CISC202? : \" + grades.containsKey(\"CISC202\"));"
   ]
  },
  {
   "cell_type": "markdown",
   "metadata": {},
   "source": [
    "## Destructive filtering of a map\n",
    "\n",
    "Similar to a list and set, destructive filtering of a map must be done using an iterator for the keys or for the values.\n",
    "\n",
    "For example, given a map of month names to days in the month, we can remove all of the entries for months having less than 31 days by iterating over the keys:"
   ]
  },
  {
   "cell_type": "code",
   "execution_count": null,
   "metadata": {},
   "outputs": [],
   "source": [
    "import java.util.Iterator;\n",
    "import java.util.Map;\n",
    "import java.util.Set;\n",
    "\n",
    "import ca.queensu.cs.cisc124.notes.util.Utils;\n",
    "\n",
    "Map<String, Integer> months = Utils.monthMap();\n",
    "\n",
    "Set<String> keys = months.keySet();\n",
    "for (Iterator<String> iter = keys.iterator(); iter.hasNext(); ) {\n",
    "    String month = iter.next();\n",
    "    int days = months.get(month);\n",
    "    if (days < 31) {\n",
    "        iter.remove();\n",
    "    }\n",
    "}\n",
    "System.out.println(months);"
   ]
  },
  {
   "cell_type": "markdown",
   "metadata": {},
   "source": [
    "However, the same task is easier to perform by iterating over the values which avoids the call to `get` required when iterating over the keys:"
   ]
  },
  {
   "cell_type": "code",
   "execution_count": null,
   "metadata": {},
   "outputs": [],
   "source": [
    "import java.util.Collection;\n",
    "import java.util.Iterator;\n",
    "import java.util.Map;\n",
    "\n",
    "import ca.queensu.cs.cisc124.notes.util.Utils;\n",
    "\n",
    "Map<String, Integer> months = Utils.monthMap();\n",
    "\n",
    "Collection<Integer> values = months.values();\n",
    "for (Iterator<Integer> iter = values.iterator(); iter.hasNext(); ) {\n",
    "    int days = iter.next();\n",
    "    if (days < 31) {\n",
    "        iter.remove();\n",
    "    }\n",
    "}\n",
    "System.out.println(months);"
   ]
  },
  {
   "cell_type": "markdown",
   "metadata": {},
   "source": [
    "# Exercises"
   ]
  },
  {
   "cell_type": "markdown",
   "metadata": {},
   "source": [
    "1. Suppose that you made a `TreeMap<String, Integer>` of month names to days in the month; what order would the entries be in?"
   ]
  },
  {
   "cell_type": "markdown",
   "metadata": {},
   "source": [
    "2. An array or list can be thought of as a kind of map. Suppose that you had an array of strings; what generic type parameters would you use to represent the array using a map?"
   ]
  },
  {
   "cell_type": "markdown",
   "metadata": {},
   "source": [
    "3. In the \"Getting an entry from a map\" example, the variable `val` was declared as `Integer val`. Something unusual happens if the variable is declared as `int val`. Can you explain the behaviour of the example if the type of `val` is changed to `int`?"
   ]
  },
  {
   "cell_type": "markdown",
   "metadata": {},
   "source": [
    "4. In the \"Searching a map for a key or value\" example, what happens if the student does not have a grade for `\"CISC121`\" (i.e., `grades.get(\"CISC121\")` returns `null`). Does the code still run or is an exception thrown? Can you explain why?"
   ]
  },
  {
   "cell_type": "markdown",
   "metadata": {},
   "source": [
    "5. The following program will read one or more results for a sports game played by two teams (e.g., basketball or hockey) until the user types the string `done`. A result is typed in like so:\n",
    "    ```\n",
    "    TOR MON 2 5\n",
    "    ```\n",
    " which can be interpreted as being a game between Toronto (TOR) and Montreal (MON) where Toronto scored 2 goals and Montreal scored 5 goal. Modify the program so that it outputs the total number of games won by each team. For example, if the following result was entered:\n",
    "    ```\n",
    "    TOR MON 2 5\n",
    "    done\n",
    "    ```\n",
    " then the progam would output something like:\n",
    "    ```\n",
    "    MON 1*\n",
    "    TOR 0\n",
    "    ```\n",
    " where an asterisk `*` is used to indicate the team or teams that won the most number of games. If the following results were entered:\n",
    "    ```\n",
    "    TOR MON 0 1\n",
    "    TOR BOS 1 2\n",
    "    DET TOR 5 3\n",
    "    MON DET 1 3\n",
    "    BOS MON 8 3\n",
    "    NYR TOR 2 0\n",
    "    CHI TOR 6 4\n",
    "    CHI MON 3 4\n",
    "    BOS NYR 1 2\n",
    "    DET CHI 4 3\n",
    "    MON NYR 3 2\n",
    "    BOS DET 5 6\n",
    "    NYR DET 2 1\n",
    "    BOS CHI 6 3\n",
    "    NYR CHI 3 2\n",
    "    done\n",
    "    ```\n",
    " then the program would output something like:\n",
    "    ```\n",
    "    BOS 3\n",
    "    CHI 1\n",
    "    DET 4*\n",
    "    MON 3\n",
    "    NYR 4*\n",
    "    TOR 0\n",
    "    ```"
   ]
  },
  {
   "cell_type": "code",
   "execution_count": null,
   "metadata": {},
   "outputs": [],
   "source": [
    "import java.util.Scanner;\n",
    "\n",
    "Scanner s = new Scanner(System.in);\n",
    "System.out.println(\"Enter scores for each game (done to finish)\");\n",
    "do {\n",
    "    String in = s.next();\n",
    "    if (in.equals(\"done\")) {\n",
    "        break;\n",
    "    }\n",
    "    String team1 = in;\n",
    "    String team2 = s.next();\n",
    "    int score1 = s.nextInt();\n",
    "    int score2 = s.nextInt();\n",
    "    \n",
    "    \n",
    "    \n",
    "} while (true);"
   ]
  }
 ],
 "metadata": {
  "kernelspec": {
   "display_name": "Java",
   "language": "java",
   "name": "java"
  },
  "language_info": {
   "codemirror_mode": "text/x-java",
   "file_extension": ".java",
   "mimetype": "",
   "name": "Java",
   "nbconverter_exporter": "",
   "version": "11.0.1-internal"
  },
  "toc": {
   "base_numbering": 1,
   "nav_menu": {},
   "number_sections": false,
   "sideBar": false,
   "skip_h1_title": false,
   "title_cell": "Table of Contents",
   "title_sidebar": "Contents",
   "toc_cell": false,
   "toc_position": {},
   "toc_section_display": false,
   "toc_window_display": false
  }
 },
 "nbformat": 4,
 "nbformat_minor": 4
}
