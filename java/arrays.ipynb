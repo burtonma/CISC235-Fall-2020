{
 "cells": [
  {
   "cell_type": "code",
   "execution_count": null,
   "metadata": {},
   "outputs": [],
   "source": [
    "// run this cell to prevent Jupyter from displaying the null output cell\n",
    "com.twosigma.beakerx.kernel.Kernel.showNullExecutionResult = false;"
   ]
  },
  {
   "cell_type": "markdown",
   "metadata": {},
   "source": [
    "<a id=\"notebook_id\"></a>\n",
    "# Arrays\n",
    "\n",
    "An array is a container for a fixed number of elements of a single type. The length of an array is equal to the number of elements that the array can hold. Each element can be accessed using an integer index where the first element has an index of zero and the last element has an index equal to the length of the array minus one. An illustration of an array of strings is shown below:\n",
    "\n",
    "|index|0|1|2|3|4|5|6|7|\n",
    "|:-|:-:|:-:|:-:|:-:|:-:|:-:|:-:|:-:|\n",
    "|element|`\"a\"`|`\"b\"`|`\"c\"`|`\"d\"`|`\"e\"`|`\"f\"`|`\"g\"`|`\"h\"`|\n",
    "\n",
    "Arrays are the only containers in Java that can hold primitive values. When working with primitive values, other Java container objects such as lists actually hold references to objects that wrap the primitive values."
   ]
  },
  {
   "cell_type": "markdown",
   "metadata": {},
   "source": [
    "## Array variables\n",
    "\n",
    "An array variable looks like a regular variable except that the type of the array is written as *type[]* where *type* is the type of the elements that are stored in the array. The following example declares several different array variables:"
   ]
  },
  {
   "cell_type": "code",
   "execution_count": null,
   "metadata": {},
   "outputs": [],
   "source": [
    "%classpath add jar ../resources/jar/notes.jar\n",
    "\n",
    "import ca.queensu.cs.cisc124.notes.basics.geometry.Point2;\n",
    "\n",
    "boolean[] a;  // array of boolean\n",
    "int[] b;      // array of int\n",
    "double[] c;   // array of double\n",
    "String[] d;   // array of String\n",
    "Point2[] e;   // array of Point2"
   ]
  },
  {
   "cell_type": "markdown",
   "metadata": {},
   "source": [
    "It is possible to create an array of arrays, or an array of arrays of arrays, and so on. For example:"
   ]
  },
  {
   "cell_type": "code",
   "execution_count": null,
   "metadata": {},
   "outputs": [],
   "source": [
    "int[][] a;  // an array of array of int"
   ]
  },
  {
   "cell_type": "markdown",
   "metadata": {},
   "source": [
    "In the preceding example, `a` is an array where each element of `a` is an `int` array."
   ]
  },
  {
   "cell_type": "markdown",
   "metadata": {},
   "source": [
    "Declaring a variable does not actually create an array; continue to the next section for information on creating arrays."
   ]
  },
  {
   "cell_type": "markdown",
   "metadata": {},
   "source": [
    "## Creating an array\n",
    "\n",
    "The length of array is fixed and specified when it is created. There are two ways to explicitly create an array.\n",
    "\n",
    "If the elements of the array are known or can be computed when the array is declared then the array can be created using an initialization list. The following examples illustrates creating several arrays of varying types and lengths:"
   ]
  },
  {
   "cell_type": "code",
   "execution_count": null,
   "metadata": {},
   "outputs": [],
   "source": [
    "%classpath add jar ../resources/jar/notes.jar\n",
    "\n",
    "import ca.queensu.cs.cisc124.notes.util.Utils;\n",
    "\n",
    "// an empty array\n",
    "int[] nothing = {};\n",
    "\n",
    "// last day of Fall 2020 semester\n",
    "int[] date = {2020, 12, 7};   \n",
    "\n",
    "// first 10 terms of the Fibonacci sequence\n",
    "int[] fib = {0, 1, 1, 2, 3, 5, 8, 13, 21, 34};\n",
    "\n",
    "// first 4 terms of Taylor series for sin(30 deg)\n",
    "double x = Math.PI / 6;  // 30 degrees in radians\n",
    "double[] a = {x, \n",
    "              -Math.pow(x, 3) / Utils.factorial(3), \n",
    "               Math.pow(x, 5) / Utils.factorial(5), \n",
    "              -Math.pow(x, 7) / Utils.factorial(7)};   \n",
    "\n",
    " // first 8 phrases from Daft Punk's Technologic\n",
    "String[] lyrics = {\"Buy it\", \"use it\", \"break it\", \"fix it\", \"trash it\", \"change it\", \"mail\", \"upgrade it\"};"
   ]
  },
  {
   "cell_type": "markdown",
   "metadata": {},
   "source": [
    "An initialization list can be used only when an array is declared; it cannot be used to create a new array. Run the following cell to see what happens when attempting to use an initialization list to assign an array to a previously declared variable:"
   ]
  },
  {
   "cell_type": "code",
   "execution_count": null,
   "metadata": {},
   "outputs": [],
   "source": [
    "int[] date;\n",
    "date = {2020, 12, 7};"
   ]
  },
  {
   "cell_type": "markdown",
   "metadata": {},
   "source": [
    "In general, the way to create an array is to use the `new` operator. The syntax for array creation is:\n",
    "\n",
    "```java\n",
    "new type[n];\n",
    "```\n",
    "\n",
    "where *type* is the element type and *n* is the length of the array. The array initialization example re-written to use array creation is shown below:"
   ]
  },
  {
   "cell_type": "code",
   "execution_count": null,
   "metadata": {},
   "outputs": [],
   "source": [
    "int[] nothing = new int[0];\n",
    "\n",
    "int[] date = new int[3];\n",
    "\n",
    "int[] fib;\n",
    "fib = new int[10];\n",
    "\n",
    "double[] a;\n",
    "a = new double[4];\n",
    "\n",
    "String[] lyrics = new String[8];"
   ]
  },
  {
   "cell_type": "markdown",
   "metadata": {},
   "source": [
    "Notice that it is possible to create an array of length 0; such an array is called an *empty* array. Empty arrays are often returned by methods to indicate that there are no elements to return. For example, imagine that you were using a method that returns an array of the indexes of all of the characters in a string that satisfy some matching criteria (e.g., all of the characters equal to `a`); such a method would likely return an empty array of `int` to indicate that there are no characters equal to `a` in the string.\n",
    "\n",
    "Also notice that it is not possible to assign values to the elements of the array when using the `new` operator. This begs this question, what values are stored in any array created using `new`? The elements of an array created using `new` are initialized to:\n",
    "\n",
    "* `false` for an array of `boolean`\n",
    "* `0` for an array of `byte`, `char`, `short`, or `int`\n",
    "* `0L` for an array of `long`\n",
    "* `0.0f` for an array of `float`\n",
    "* `0.0` for an array of `double`\n",
    "* `null` for all other arrays\n"
   ]
  },
  {
   "cell_type": "markdown",
   "metadata": {},
   "source": [
    "## Printing an array\n",
    "\n",
    "It is often useful to print an array including all of its elements. Unfortunately, arrays do not have a customized `toString` method and printing an array does not produce particularly useful output. Run the following cell to see an example of what happens when the programmer attempts to directly print an array:"
   ]
  },
  {
   "cell_type": "code",
   "execution_count": null,
   "metadata": {},
   "outputs": [],
   "source": [
    " // last day of Fall 2020 semester\n",
    "int[] date = {2020, 12, 7};\n",
    "System.out.println(date);"
   ]
  },
  {
   "cell_type": "markdown",
   "metadata": {},
   "source": [
    "To print the elements of an array, use the method `toString` from the class `java.util.Arrays`. You need to import the class `java.util.Arrays` before you use it in your program. In a Jupyter notebook, you will need to import the class in every cell if you want to use the class."
   ]
  },
  {
   "cell_type": "code",
   "execution_count": null,
   "metadata": {},
   "outputs": [],
   "source": [
    "import java.util.Arrays;\n",
    "\n",
    " // last day of Fall 2020 semester\n",
    "int[] date = {2020, 12, 7};\n",
    "System.out.println(Arrays.toString(date));"
   ]
  },
  {
   "cell_type": "markdown",
   "metadata": {},
   "source": [
    "### Exercises\n",
    "\n",
    "1. Create an array of `double` having length 4 using the `new` operator and then print the array using `Arrays.toString`. Verify that the array contains 4 `0.0`s."
   ]
  },
  {
   "cell_type": "code",
   "execution_count": null,
   "metadata": {},
   "outputs": [],
   "source": [
    " // Exercise 1\n",
    "import java.util.Arrays;\n"
   ]
  },
  {
   "cell_type": "markdown",
   "metadata": {},
   "source": [
    "2. Create an array of `String` having length 3 using the new operator and then print the array using `Arrays.toString`. Verify that the array contains 4 `null`s."
   ]
  },
  {
   "cell_type": "code",
   "execution_count": null,
   "metadata": {},
   "outputs": [],
   "source": [
    " // Exercise 2\n",
    "import java.util.Arrays;\n"
   ]
  },
  {
   "cell_type": "markdown",
   "metadata": {},
   "source": [
    "3. Create and initialize an array of `char` containing the characters `x`, `y`, and `z` and then print the array using `Arrays.toString`. Verify that the array contains the correct characters."
   ]
  },
  {
   "cell_type": "code",
   "execution_count": null,
   "metadata": {},
   "outputs": [],
   "source": [
    "// Exercise 3\n",
    "import java.util.Arrays;\n"
   ]
  },
  {
   "cell_type": "markdown",
   "metadata": {},
   "source": [
    "4. Create an empty array of any type and then print the array using `Arrays.toString`."
   ]
  },
  {
   "cell_type": "code",
   "execution_count": null,
   "metadata": {},
   "outputs": [],
   "source": [
    "// Exercise 4\n",
    "import java.util.Arrays;\n"
   ]
  },
  {
   "cell_type": "markdown",
   "metadata": {},
   "source": [
    "5. What does the following code print:\n",
    "```java\n",
    "int[] a;\n",
    "System.out.println(a.length);\n",
    "```\n",
    "Can you explain the result?"
   ]
  },
  {
   "cell_type": "code",
   "execution_count": null,
   "metadata": {},
   "outputs": [],
   "source": [
    "// Exericse 5\n"
   ]
  },
  {
   "cell_type": "markdown",
   "metadata": {},
   "source": [
    "## Length of an array\n",
    "\n",
    "Every array has a publicly accessible field named `length` that stores the length of the array."
   ]
  },
  {
   "cell_type": "code",
   "execution_count": null,
   "metadata": {},
   "outputs": [],
   "source": [
    "// last day of Fall 2020 semester\n",
    "int[] date = {2020, 12, 7};\n",
    "int len = date.length;\n",
    "System.out.println(\"date.length : \" + len);\n",
    "\n",
    "// first 10 terms of the Fibonacci sequence\n",
    "int[] fib = {0, 1, 1, 2, 3, 5, 8, 13, 21, 34};\n",
    "len = fib.length;\n",
    "System.out.println(\"fib.length : \" + len);\n",
    "\n",
    "double[] a;\n",
    "a = new double[4];\n",
    "len = a.length;\n",
    "System.out.println(\"a.length : \" + len);\n",
    "\n",
    "String[] lyrics = new String[8];\n",
    "len = lyrics.length;\n",
    "System.out.println(\"lyrics.length : \" + len);"
   ]
  },
  {
   "cell_type": "markdown",
   "metadata": {},
   "source": [
    "It is an error to attempt to take the length of an uninitialized array:"
   ]
  },
  {
   "cell_type": "markdown",
   "metadata": {},
   "source": [
    "### Exercise\n",
    "\n",
    "6. Re-create the four arrays from Exercises 1-4 and print the length of each array."
   ]
  },
  {
   "cell_type": "code",
   "execution_count": null,
   "metadata": {},
   "outputs": [],
   "source": [
    "// Exercise 6\n",
    "import java.util.Arrays;\n"
   ]
  },
  {
   "cell_type": "markdown",
   "metadata": {},
   "source": [
    "## Accessing elements of an array\n",
    "\n",
    "Quoting the [Java Language Specification](https://docs.oracle.com/javase/specs/jls/se11/html/jls-10.html):\n",
    "\n",
    "> An array object contains a number of variables. The number of variables may be zero, in which case the array is said to be *empty*. The variables contained in an array have no names; instead they are referenced by array access expressions that use non-negative integer index values. These variables are called the *components* of the array. If an array has *n* components, we say *n* is the length of the array; the components of the array are referenced using integer indices from 0 to *n* - 1, inclusive.\n",
    "\n",
    "The variables corresponding to the elements of an array `a` are `a[0]`, `a[1]`, `a[2]`, ..., `a[a.length - 1]`. The variables behave the same as other variables in Java; i.e., they have values and they can be assigned values.\n",
    "\n",
    "Run the following example to see what happens when the elements of an array as assigned one at a time:"
   ]
  },
  {
   "cell_type": "code",
   "execution_count": null,
   "metadata": {},
   "outputs": [],
   "source": [
    "import java.util.Arrays;\n",
    "\n",
    "// first 8 phrases from Daft Punk's Technologic\n",
    "String[] lyrics = new String[8];\n",
    "System.out.println(Arrays.toString(lyrics));\n",
    "\n",
    "// assign the 8 elements of the array one at a time printing the array after each assignment\n",
    "\n",
    "lyrics[0] = \"Buy it\"; \n",
    "System.out.println(Arrays.toString(lyrics));\n",
    "\n",
    "lyrics[1] = \"use it\";\n",
    "System.out.println(Arrays.toString(lyrics));\n",
    "\n",
    "lyrics[2] = \"break it\";\n",
    "System.out.println(Arrays.toString(lyrics));\n",
    "\n",
    "lyrics[3] = \"fix it\";\n",
    "System.out.println(Arrays.toString(lyrics));\n",
    "\n",
    "lyrics[4] = \"trash it\";\n",
    "System.out.println(Arrays.toString(lyrics));\n",
    "\n",
    "lyrics[5] = \"change it\";\n",
    "System.out.println(Arrays.toString(lyrics));\n",
    "\n",
    "lyrics[6] = \"mail\";\n",
    "System.out.println(Arrays.toString(lyrics));\n",
    "\n",
    "lyrics[7] = \"upgrade it\";\n",
    "System.out.println(Arrays.toString(lyrics));"
   ]
  },
  {
   "cell_type": "markdown",
   "metadata": {},
   "source": [
    "The following example computes an approximate value of $\\sin (x)$ using the truncated Taylor series $x - \\frac{x^3}{3!} + \\frac{x^5}{5!} - \\frac{x^7}{7!}$. Run the following cell to see the results:"
   ]
  },
  {
   "cell_type": "code",
   "execution_count": null,
   "metadata": {},
   "outputs": [],
   "source": [
    "%classpath add jar ../resources/jar/notes.jar\n",
    "\n",
    "import ca.queensu.cs.cisc124.notes.util.Utils;\n",
    "\n",
    "// first 4 terms of Taylor series for sin(30 deg)\n",
    "double x = Math.PI / 6;  // 30 degrees in radians\n",
    "double[] a = {x, \n",
    "              -Math.pow(x, 3) / Utils.factorial(3), \n",
    "               Math.pow(x, 5) / Utils.factorial(5), \n",
    "              -Math.pow(x, 7) / Utils.factorial(7)};\n",
    "\n",
    "// use the elements of a\n",
    "double sum = a[0] + a[1] + a[2] + a[3];\n",
    "\n",
    "System.out.println(\"sin(30 deg) approximately equal to : \" + sum);\n",
    "System.out.println(\"sin(30 deg) using Math.sin equal to: \" + Math.sin(Math.toRadians(30)));"
   ]
  },
  {
   "cell_type": "markdown",
   "metadata": {},
   "source": [
    "## Iterating over the elements of an array\n",
    "\n",
    "The previous example sums the elements of an array by explicitly writing out the sum. A more general way to compute the sum is to use a loop."
   ]
  },
  {
   "cell_type": "code",
   "execution_count": null,
   "metadata": {},
   "outputs": [],
   "source": [
    "%classpath add jar ../resources/jar/notes.jar\n",
    "\n",
    "import java.util.Arrays;\n",
    "import ca.queensu.cs.cisc124.notes.util.Utils;\n",
    "\n",
    "// first 5 terms of Taylor series for sin(30 deg)\n",
    "double x = Math.PI / 6;  // 30 degrees in radians\n",
    "\n",
    "double[] a = new double[5];\n",
    "double sign = 1.0;\n",
    "for (int i = 0; i < a.length; i++) {     // regular for loop\n",
    "    int n = 2 * i + 1;\n",
    "    a[i] = sign * Math.pow(x, n) / Utils.factorial(n);\n",
    "    sign *= -1;\n",
    "}\n",
    "\n",
    "double sum = 0.0;\n",
    "for (double val : a) {                   // enhanced for loop\n",
    "    sum += val;\n",
    "}\n",
    "System.out.println(\"sin(30 deg) approximately equal to : \" + sum);\n",
    "System.out.println(\"sin(30 deg) using Math.sin equal to: \" + Math.sin(Math.toRadians(30)));"
   ]
  },
  {
   "cell_type": "markdown",
   "metadata": {},
   "source": [
    "### Exercises\n",
    "\n",
    "7. The Fibonacci sequence starts with the two integer values $0, 1$. Each successive term in the sequence is the sum of the previous two terms. The first 10 terms of the sequence are $0, 1, 1, 2, 3, 5, 8, 13, 21, 34$. The following cell contains an array of length 15 where the first 10 elements are from the Fibonacci series. Using array indexing assign replace the `-1` values with the next five values from the Fibonacci sequence. Do not use any literal values; all of the assignment and sums should be performed using array indexing."
   ]
  },
  {
   "cell_type": "code",
   "execution_count": null,
   "metadata": {},
   "outputs": [],
   "source": [
    "// Exercise 7\n",
    "import java.util.Arrays;\n",
    "\n",
    "int[] fib = { 0, 1, 1, 2, 3, 5, 8, 13, 21, 34, -1, -1, -1, -1, -1}; \n"
   ]
  },
  {
   "cell_type": "markdown",
   "metadata": {},
   "source": [
    "8. The next cell contains two arrays representing the Cartesian coordinates of two 2-dimensional points. The array `p1` represents the coordinates of the point $p_1 = (-1.0, 1.5)$ and the array `p2` represents the coordinate of the point $p_2 = (4.0, -2.5)$. Assign the appropriate coordinates to the two points using array indexing and then compute the slope of the line passing through the two points. Do not use any literal values when you compute the slope; instead use array indexing to get the values that your require."
   ]
  },
  {
   "cell_type": "code",
   "execution_count": null,
   "metadata": {},
   "outputs": [],
   "source": [
    "// Exercise 8\n",
    "import java.util.Arrays;\n",
    "\n",
    "double[] p1 = new double[2];\n",
    "double[] p2 = new double[2];\n"
   ]
  },
  {
   "cell_type": "markdown",
   "metadata": {},
   "source": [
    "9. [COVID-19 reporting](https://coronavirus.jhu.edu/data/new-cases) commonly reports the moving average of the daily number of new confirmed cases. The moving average is used because it smooths out short-term fluctuations so that longer-term trends can be seen more easily. In a 5-day moving average, the value of the moving average on day $i$ is the average of the number of cases on days $i-2$, $i-1$, $i$, $i+1$, and $i+2$. The following cell contains the number of COVID-19 cases confirmed in Ontario from May 10 to May 19, 2020. Compute the 5-day moving average of the number of cases for the days May 12 to May 17."
   ]
  },
  {
   "cell_type": "code",
   "execution_count": null,
   "metadata": {},
   "outputs": [],
   "source": [
    "// Exercise 9\n",
    "import java.util.Arrays;\n",
    "\n",
    "int[] cases = {271, 387, 344, 309, 367, 458, 326, 305, 362, 384};\n",
    "double[] movingAvg;"
   ]
  },
  {
   "cell_type": "markdown",
   "metadata": {},
   "source": [
    "10. Many practical applications use sampled signals. For example, a digital photograph or image is made up of discrete pixels sampled in space and much modern music is recorded by sampling an audio signal in time. The resulting digital signal is simply an array of values. Upsampling a digital signal by a factor of 2 involves taking the original array of values and inserting a zero value between the individual elements. Then the zeros are replaced by computing some sort of average of the surrounding values. A real-world example of upsampling would be taking a digital image and doubling its width and height. A crude way of replacing an inserted zero is to simply replace the zero with the average of the two elements on either side of the zero. The following cell contains an array `val` representing a signal that we wish to upsample. Create an array `upsamp` that contains the elements of `val` separated by zeros and then replace the zeros with the average of the values on either side of the zeros. The length of the array `upsamp` should be equal to `2 * val.length - 1` because we do not insert a zero before or after the last element of `val`."
   ]
  },
  {
   "cell_type": "code",
   "execution_count": null,
   "metadata": {},
   "outputs": [],
   "source": [
    "// Exercise 10\n",
    "import java.util.Arrays;\n",
    "\n",
    "double[] val = {35, 56, 86, 86, 91, 71, 50, 55, 60};\n",
    "double[] upsamp;"
   ]
  },
  {
   "cell_type": "code",
   "execution_count": null,
   "metadata": {},
   "outputs": [],
   "source": []
  }
 ],
 "metadata": {
  "kernelspec": {
   "display_name": "Java",
   "language": "java",
   "name": "java"
  },
  "language_info": {
   "codemirror_mode": "text/x-java",
   "file_extension": ".java",
   "mimetype": "",
   "name": "Java",
   "nbconverter_exporter": "",
   "version": "11.0.1-internal"
  },
  "toc": {
   "base_numbering": 1,
   "nav_menu": {},
   "number_sections": false,
   "sideBar": false,
   "skip_h1_title": false,
   "title_cell": "Table of Contents",
   "title_sidebar": "Contents",
   "toc_cell": false,
   "toc_position": {},
   "toc_section_display": false,
   "toc_window_display": false
  }
 },
 "nbformat": 4,
 "nbformat_minor": 4
}
