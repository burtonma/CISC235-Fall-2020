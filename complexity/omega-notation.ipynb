{
 "cells": [
  {
   "cell_type": "markdown",
   "metadata": {},
   "source": [
    "<a id=\"notebook_id\"></a>\n",
    "# $\\Omega$-notation\n",
    "\n",
    "$O$-notation describes the upper bound on the growth rate of a function (that is, if $f(n)$ is an element of $O(g(n))$ then $f(n)$ grows no faster than $g(n)$).\n",
    "\n",
    "$\\Omega$-notation (big-omega notation) describes the lower bound on the growth rate of a function (that is, if $f(n)$ is an element of $\\Omega(g(n))$ then $f(n)$ grows at least as fast as $g(n)$).\n",
    "\n",
    "For a given function $g(n)$ we say that $f(n)$ is an element of $\\Omega(g(n))$ if there are positive constants $c$ and $n_0$ such that\n",
    "\n",
    "$$\n",
    "| f(n) | \\geq c | g(n) | \\ \\text{for all} \\ n \\geq n_0\n",
    "$$\n",
    "\n",
    "This is identical to the definition of $O$-notation except that the $\\leq$ has become $\\geq$ between \n",
    "$|f(n)|$ and $ c | g(n) |$.\n",
    "\n",
    "In the analysis of algorithms, $f(n)$ is a timing function (that should not take on negative values) and $g(n)$ is positive for positive values of $n$. With these assumptions in mind, some authors say that $f(n)$ is an element of $\\Omega(g(n))$ if there are positive constants $c$ and $n_0$ such that\n",
    "\n",
    "$$\n",
    "0 \\leq c g(n) \\leq f(n)  \\ \\text{for all} \\ n \\geq n_0\n",
    "$$\n",
    "\n",
    "This is identical to the definition of $O$-notation except that $f(n)$ and $c g(n)$ have switched positions."
   ]
  },
  {
   "cell_type": "markdown",
   "metadata": {},
   "source": [
    "**Example** The function $f(n) = 2n^2 + 4n$ is an element of $\\Omega(n^2)$.\n",
    "\n",
    "**Proof** We need to find a function $g(n)$ such that $c g(n)$ is less than or equal to $f(n)$ for some positive constant values $c$ and $n$.\n",
    "\n",
    "$$\n",
    "\\begin{split}\n",
    "f(n) = 2n^2 + 4n \\geq 2n^2 \\ \\text{for all} \\ n \\geq 1\n",
    "\\end{split}\n",
    "$$\n",
    "\n",
    "Notice that because the term $4n$ is positive for $n \\geq 1$ we can simply remove the $4n$ from $f(n)$ to get an appropriate $g(n)$."
   ]
  },
  {
   "cell_type": "markdown",
   "metadata": {},
   "source": [
    "**Example** The function $f(n) = 2n^2 - 4n$ is an element of $\\Omega(n^2)$.\n",
    "\n",
    "**Proof** Here we cannot simply remove the term $-4n$ because it is negative for $n \\geq 1$. Instead, divide both sides of the inequality by $g(n) = n^2$ (keeping in mind that $n$ is positive) to obtain:\n",
    "\n",
    "$$\n",
    "\\begin{split}\n",
    "f(n) & \\geq c g(n) \\\\\n",
    "\\frac{f(n)}{g(n)} & \\geq c \\\\\n",
    "\\frac{f(n)}{g(n)} = \\frac{2n^2 - 4n}{n^2} & \\geq c \\\\\n",
    "2 - \\frac{4}{n} & \\geq c \\\\\n",
    "2 & \\geq c + \\frac{4}{n} \\\\\n",
    "2 & \\geq c + 1 \\ \\text{for} \\ n \\geq 4\n",
    "\\end{split}\n",
    "$$\n",
    "\n",
    "Choosing $c = 1$ and $n_0 = 4$ satisfies the inequality proving $f(n)$ is an element of $\\Omega(n^2)$."
   ]
  },
  {
   "cell_type": "markdown",
   "metadata": {},
   "source": [
    "**Example** The function $f(n) = 2n^2 + 4n$ is *not* an element of $\\Omega(n^3)$.\n",
    "\n",
    "**Proof**\n",
    "\n",
    "$$\n",
    "\\begin{split}\n",
    "f(n) & \\geq c g(n) \\\\\n",
    "2n^2 + 4n & \\geq c n^3 \\\\\n",
    "0 & \\geq c n^3 - 2n^2 - 4n \\\\\n",
    "0 & \\geq \\frac{c n^3 - 2n^2 - 4n}{n^3} \\\\\n",
    "0 & \\geq c - \\frac{2}{n} - \\frac{4}{n^2} \\\\\n",
    "0 & \\geq c \\ \\text{for} \\ n \\geq 1\n",
    "\\end{split}\n",
    "$$\n",
    "\n",
    "which is a contradiction for $c \\geq 0$."
   ]
  },
  {
   "cell_type": "markdown",
   "metadata": {},
   "source": [
    "As with big-$O$ classes there is a hierarchy of big-$\\Omega$ classes. For example, if $f(n)$ is an element of $\\Omega(n^k)$ then it is also an element of $\\Omega(n^{k-1})$, $\\Omega(n^{k-2})$, $\\Omega(n^{k-3})$, and so on.\n",
    "\n",
    "If $f(n)$ is a polynomial of degree $m$ then $f(n)$ is an element of $O(n^m)$ and an element of $\\Omega(n^m)$.\n",
    "\n",
    "Because $\\Omega$-notation describes a lower bound it can be used to bound the best-base running time of an algorithm.\n",
    "\n",
    "It is easy to create examples of algorithm timing functions where the big-$O$ class and big-$\\Omega$ classes are different. All that is required is that the algorithm does something with a different complexity for different valued inputs. For example, consider the following algorithm:\n",
    "\n",
    "```\n",
    "// ALG4                           NUMBER OF OPERATIONS\n",
    "if n % 2 == 0                     2 (1 remainder operation, 1 comparison)\n",
    "    for i = 0 to (n - 1)^2\n",
    "        print \"*\"                 n^2 print operations\n",
    "else\n",
    "    for i = 0 to (n - 1)\n",
    "        print \"*\"                 n print operations\n",
    "```\n",
    "\n",
    "For even $n$ the timing function of `ALG4` is $T(n) = n^2 + 2$ but for odd $n$ the timing function is $T(n) = n + 2$. The worst-case complexity is $O(n^2)$ but the best-case complexity is $\\Omega(n)$.\n",
    "\n",
    "When we say that the running time of an algorithm is $\\Omega(g(n))$ we mean that *no matter what particular input of size n is chosen for each value of n*, the running time on that set of inputs is at least a constant times $g(n)$ for sufficiently large $n$."
   ]
  },
  {
   "cell_type": "markdown",
   "metadata": {},
   "source": [
    "## Exercises\n",
    "\n",
    "1. Prove that $f(n)$ is an element of $O(g(n))$ if and only if $g(n)$ is an element of $\\Omega(g(n))$.\n",
    "\n",
    "2. Look up the [insertion sort](https://en.wikipedia.org/wiki/Insertion_sort) algorithm. What is the big-$O$ complexity class of insertion sort? What is the big-$\\Omega$ complexity class of insertion sort?\n",
    "\n",
    "3. Look up the [bogosort](https://en.wikipedia.org/wiki/Bogosort) algorithm. What is the big-$O$ complexity class of bogosort? What is the big-$\\Omega$ complexity class of bogosort?\n",
    "\n",
    "4. What are the big-$O$ and big-$\\Omega$ complexity classes of the `push` and `pop` operations on a fixed-size array-based stack?\n",
    "\n",
    "5. What are the big-$O$ and big-$\\Omega$ complexity classes of the `push` and `pop` operations on a linked-list-based stack?"
   ]
  }
 ],
 "metadata": {
  "kernelspec": {
   "display_name": "Java",
   "language": "java",
   "name": "java"
  },
  "language_info": {
   "codemirror_mode": "text/x-java",
   "file_extension": ".java",
   "mimetype": "",
   "name": "Java",
   "nbconverter_exporter": "",
   "version": "1.8.0_121"
  },
  "toc": {
   "base_numbering": 1,
   "nav_menu": {},
   "number_sections": false,
   "sideBar": false,
   "skip_h1_title": false,
   "title_cell": "Table of Contents",
   "title_sidebar": "Contents",
   "toc_cell": false,
   "toc_position": {},
   "toc_section_display": false,
   "toc_window_display": false
  }
 },
 "nbformat": 4,
 "nbformat_minor": 4
}
