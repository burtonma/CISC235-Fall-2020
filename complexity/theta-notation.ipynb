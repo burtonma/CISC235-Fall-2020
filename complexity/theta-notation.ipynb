{
 "cells": [
  {
   "cell_type": "markdown",
   "metadata": {},
   "source": [
    "<a id=\"notebook_id\"></a>\n",
    "# $\\Theta$-notation\n",
    "\n",
    "$\\Theta$-notation is used to describe an algorithm having the same bounds on its best-case and worst-case complexity.\n",
    "\n",
    "If $f(n)$ is an element of $O(g(n))$ and an element of $\\Omega(g(n))$ then we say that $f(n)$ is an element of $\\Theta(g(n))$. Mathematically, we can say that\n",
    "$f(n)$ is an element of $\\Theta(g(n))$ if there are positive constants $c_1$, $c_2$, and $n_0$ such that\n",
    "\n",
    "$$\n",
    "0 \\leq c_1 g(n) \\leq f(n) \\leq c_2 g(n)  \\ \\text{for all} \\ n \\geq n_0\n",
    "$$"
   ]
  },
  {
   "cell_type": "markdown",
   "metadata": {},
   "source": [
    "Proving that a function is in $\\Theta(g(n))$ can be done by proving that the function is an element of both $O(g(n))$ and $\\Omega(g(n))$.\n",
    "\n",
    "**Example** Prove that $f(n) = 2^n + n$ is an element of $\\Theta(2^n)$.\n",
    "\n",
    "**Proof** First prove that $f(n)$ is an element of $O(2^n)$. We require constants $c$ and $n_0$ such that:\n",
    "\n",
    "$$\n",
    "\\begin{split}\n",
    "f(n) = 2^n + n & \\leq c 2^n \\\\\n",
    "\\frac{2^n}{2^n} + \\frac{n}{2^n} & \\leq c \\\\\n",
    "1 + \\frac{n}{2^n} & \\leq c \\\\\n",
    "\\end{split}\n",
    "$$\n",
    "\n",
    "For all $n \\geq 1$ we have $\\frac{n}{2^n} \\leq 1$; thus choosing $c = 2$ and $n_0 = 1$ satisfies the inequality and $f(n)$ is an element of $O(2^n)$.\n",
    "\n",
    "Next prove that $f(n)$ is an element of $\\Theta(2^n)$.  We require constants $c$ and $n_0$ such that:\n",
    "\n",
    "$$\n",
    "\\begin{split}\n",
    "f(n) = 2^n + n & \\geq c 2^n \\\\\n",
    "2^n & \\geq c 2^n - n\n",
    "\\end{split}\n",
    "$$\n",
    "\n",
    "Choosing $c = 1$ and $n_0 = 1$ satisfies the inequality and $f(n)$ is an element of $\\Theta(2^n)$."
   ]
  },
  {
   "cell_type": "markdown",
   "metadata": {},
   "source": [
    "An alternative way to prove that $f(n)$ is in $\\Theta(g(n))$ is to prove that $f(n)$ is an element of $O(g(n))$ and that $g(n)$ is an element of $O(f(n))$."
   ]
  },
  {
   "cell_type": "markdown",
   "metadata": {},
   "source": [
    "## Determining the big-$\\Theta$ class of a problem\n",
    "\n",
    "Consider the problem of evaluating the polynomial\n",
    "\n",
    "$$f(x) = c_0 + c_1 x + c_2 x^2 + c_{k-1} x^{k-1} + c_k x^k $$\n",
    "\n",
    "Any algorithm that computes the value $f(x)$ must at the very least examine the $k+1$ coefficients $c_i$. Therefore, the lower-bound on the complexity is $\\Omega(k)$.\n",
    "\n",
    "A Java algorithm that evaluates the polynomial $f(x)$ is shown below:"
   ]
  },
  {
   "cell_type": "code",
   "execution_count": 7,
   "metadata": {},
   "outputs": [
    {
     "data": {
      "text/plain": [
       "com.twosigma.beaker.javash.bkr53b2cd84.Poly"
      ]
     },
     "execution_count": 7,
     "metadata": {},
     "output_type": "execute_result"
    }
   ],
   "source": [
    "public class Poly {\n",
    "    public static double poly(double x, double[] c) {\n",
    "        double result = 0.0;\n",
    "        int k = c.length - 1;\n",
    "        for (int i = 0; i <= k; i++) {\n",
    "            double ci = c[i];\n",
    "            double power = 1.0;\n",
    "            for (int j = 0; j < i; j++) {\n",
    "                power *= x;\n",
    "            }\n",
    "            result += ci * power;\n",
    "        }\n",
    "        return result;\n",
    "    }\n",
    "}"
   ]
  },
  {
   "cell_type": "code",
   "execution_count": 21,
   "metadata": {},
   "outputs": [
    {
     "name": "stdout",
     "output_type": "stream",
     "text": [
      "-5.0\n"
     ]
    },
    {
     "data": {
      "text/plain": [
       "null"
      ]
     },
     "execution_count": 21,
     "metadata": {},
     "output_type": "execute_result"
    }
   ],
   "source": [
    "double[] c = {1.0, -1.0, 1.0, -1.0};\n",
    "double x = 2.0;\n",
    "System.out.println(Poly.poly(x, c));"
   ]
  },
  {
   "cell_type": "markdown",
   "metadata": {},
   "source": [
    "`Poly.poly` has an upper-bounded complexity of $O(k^2)$. The lower-bound on the problem complexity is $\\Omega(k)$ which suggests that there may be a more efficient algorithm.\n",
    "\n",
    "[Horner's rule](https://en.wikipedia.org/wiki/Horner%27s_method) evaluates a polynomial using the identity\n",
    "\n",
    "$$\n",
    "\\begin{split}\n",
    "f(x) & = c_0 + c_1 x + c_2 x^2 + c_{k-1} x^{k-1} + c_k x^k \\\\\n",
    "& = c_0 + x(c_1 + x(c_2 + ... + x(c_{k-1} + c_k x)...)) \\\\\n",
    "\\end{split}\n",
    "$$\n",
    "\n",
    "A Java implementation of Horner's rule is shown below:"
   ]
  },
  {
   "cell_type": "code",
   "execution_count": 19,
   "metadata": {},
   "outputs": [
    {
     "data": {
      "text/plain": [
       "com.twosigma.beaker.javash.bkr53b2cd84.Horner"
      ]
     },
     "execution_count": 19,
     "metadata": {},
     "output_type": "execute_result"
    }
   ],
   "source": [
    "public class Horner {\n",
    "    public static double poly(double x, double[] c) {\n",
    "        double result = 0.0;\n",
    "        int k = c.length - 1;\n",
    "        for (int i = k; i > 0; i--) {\n",
    "            double ci = c[i];\n",
    "            result = x * (ci + result);\n",
    "        }\n",
    "        result += c[0];\n",
    "        return result;\n",
    "    }\n",
    "}"
   ]
  },
  {
   "cell_type": "code",
   "execution_count": 27,
   "metadata": {},
   "outputs": [
    {
     "name": "stdout",
     "output_type": "stream",
     "text": [
      "15.0\n"
     ]
    },
    {
     "data": {
      "text/plain": [
       "null"
      ]
     },
     "execution_count": 27,
     "metadata": {},
     "output_type": "execute_result"
    }
   ],
   "source": [
    "double[] c = {1.0, 1.0, 1.0, 1.0};\n",
    "double x = 2.0;\n",
    "System.out.println(Horner.poly(x, c));"
   ]
  },
  {
   "cell_type": "markdown",
   "metadata": {},
   "source": [
    "`Horner.poly` has an upper-bounded complexity of $O(k)$ which matches the lower-bound of $\\Omega(k)$. Therefore, we can say that the problem of evaluating a polynomial is in $\\Theta(k)$."
   ]
  },
  {
   "cell_type": "markdown",
   "metadata": {},
   "source": [
    "This does not mean that `Horner.poly` is the fastest possible implementation of polynomial evaluation; it simply means that `Horner.poly` has the lowest possible complexity. There may be another algorithm that has a smaller constant factor $c$."
   ]
  },
  {
   "cell_type": "markdown",
   "metadata": {},
   "source": [
    "Big-$O$ complexity is often used as a guideline to choose between algorithms; usually we select the algorithm that has smaller big-$O$ complexity. However, we need to keep in mind that the complexity results hold only in the limit of large $n$. Often choosing an algorithm with a worse big-$O$ complexity is preferred for smaller problem sizes. For example, most library implementations of sorting algorithms having worse-case complexity $O(n \\log n)$ internally use insertion sort for small input sizes even though insertion sort is in $O(n^2)$ (for example, see Python's standard sorting algorithm [Timsort](https://en.wikipedia.org/wiki/Timsort))."
   ]
  },
  {
   "cell_type": "markdown",
   "metadata": {},
   "source": [
    "Finally, it is worth pointing out that in the real world programmers use benchmarking in addition to complexity analysis to choose between different algorithms and data structures. Repeating the quote\n",
    "from [the official Java tutorials](https://docs.oracle.com/javase/tutorial/collections/implementations/list.html) regarding choosing between an array-based list and a linked list:\n",
    "\n",
    "> There are two general-purpose List implementations — ArrayList and LinkedList. Most of the time, you'll probably use ArrayList, which offers constant-time positional access and is just plain fast. It does not have to allocate a node object for each element in the List, and it can take advantage of System.arraycopy when it has to move multiple elements at the same time.\n",
    "\n",
    "> If you frequently add elements to the beginning of the List or iterate over the List to delete elements from its interior, you should consider using LinkedList. These operations require constant-time in a LinkedList and linear-time in an ArrayList. But you pay a big price in performance. Positional access requires linear-time in a LinkedList and constant-time in an ArrayList. Furthermore, the constant factor for LinkedList is much worse. If you think you want to use a LinkedList, measure the performance of your application with both LinkedList and ArrayList before making your choice; ArrayList is usually faster."
   ]
  },
  {
   "cell_type": "markdown",
   "metadata": {},
   "source": [
    "## Exercise\n",
    "\n",
    "1. Prove that any $k$-degree polynomial $f(x) = c_0 + c_1 x + c_2 x^2 + c_{k-1} x^{k-1} + c_k x^k $ with $c_k \\neq 0$ is an element of $\\Theta(x^k)$.\n",
    "\n",
    "2. Show that for any real constants $a$ and $b$ where $b > 0$ that $(n + a)^b$ is an element of $\\Theta(n^b)$."
   ]
  },
  {
   "cell_type": "code",
   "execution_count": null,
   "metadata": {},
   "outputs": [],
   "source": []
  }
 ],
 "metadata": {
  "kernelspec": {
   "display_name": "Java",
   "language": "java",
   "name": "java"
  },
  "language_info": {
   "codemirror_mode": "text/x-java",
   "file_extension": ".java",
   "mimetype": "",
   "name": "Java",
   "nbconverter_exporter": "",
   "version": "11.0.1-internal"
  },
  "toc": {
   "base_numbering": 1,
   "nav_menu": {},
   "number_sections": false,
   "sideBar": false,
   "skip_h1_title": false,
   "title_cell": "Table of Contents",
   "title_sidebar": "Contents",
   "toc_cell": false,
   "toc_position": {},
   "toc_section_display": false,
   "toc_window_display": false
  }
 },
 "nbformat": 4,
 "nbformat_minor": 4
}
