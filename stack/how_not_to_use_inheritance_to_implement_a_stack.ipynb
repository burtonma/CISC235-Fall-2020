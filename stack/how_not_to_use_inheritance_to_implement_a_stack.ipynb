{
 "cells": [
  {
   "cell_type": "code",
   "execution_count": null,
   "metadata": {},
   "outputs": [],
   "source": [
    "// run this cell to prevent Jupyter from displaying the null output cell\n",
    "com.twosigma.beakerx.kernel.Kernel.showNullExecutionResult = false;"
   ]
  },
  {
   "cell_type": "markdown",
   "metadata": {},
   "source": [
    "<a id=\"notebook_id\"></a>\n",
    "# How not to use inheritance to implement a stack\n",
    "\n",
    "The observant reader will quickly realize that a stack looks a lot like a Java `List`.\n",
    "\n",
    "Pushing an element onto the top of the stack looks like adding an element to the end of a list.\n",
    "\n",
    "Popping an element from the top of a stack looks like removing an element from the end of the list.\n",
    "\n",
    "If we have our stack implementation inherit from a Java `List` implementation such as `ArrayList` then we get the `add` and `remove` methods for free.\n",
    "\n",
    "The inheritance-based implementation of a stack is almost trivial. Run the following cell to compile the class:"
   ]
  },
  {
   "cell_type": "code",
   "execution_count": null,
   "metadata": {},
   "outputs": [],
   "source": [
    "%classpath add jar ../resources/jar/stack.jar\n",
    "\n",
    "package ca.queensu.cs.cisc235.stack;\n",
    "\n",
    "import java.util.ArrayList;\n",
    "\n",
    "public class BadStack<E> extends ArrayList<E> implements Stack<E> {\n",
    "\n",
    "    @Override\n",
    "    public Stack<E> push(E elem) {\n",
    "        // adds the element to the back of this list\n",
    "        this.add(elem);\n",
    "        return this;\n",
    "    }\n",
    "\n",
    "    @Override\n",
    "    public E pop() {\n",
    "        if (this.isEmpty()) {\n",
    "            throw new RuntimeException(\"popped an empty stack\");\n",
    "        }\n",
    "        \n",
    "        // removes the element from the back of this list\n",
    "        return this.remove(this.size() - 1);\n",
    "    }\n",
    "\n",
    "    @Override\n",
    "    public E peek() {\n",
    "        if (this.isEmpty()) {\n",
    "            throw new RuntimeException(\"peeked at an empty stack\");\n",
    "        }\n",
    "        \n",
    "        // returns the element at the back of this list\n",
    "        return this.get(this.size() - 1);\n",
    "    }\n",
    "\n",
    "    /**\n",
    "     * Returns a string representation of this stack. The returned string starts\n",
    "     * with {@code BadStack:} followed by a tab character followed by the top\n",
    "     * element of the stack. The remainder of the string consists of the remaining\n",
    "     * elements of the stack each on a new line where each new line begins with a\n",
    "     * tab character.\n",
    "     *\n",
    "     * @return a string representation of this stack\n",
    "     */\n",
    "    @Override\n",
    "    public String toString() {\n",
    "        StringBuilder b = new StringBuilder(\"BadStack:\");\n",
    "        if (!this.isEmpty()) {\n",
    "            for (int i = this.size() - 1; i >= 0; i--) {\n",
    "                b.append('\\n');\n",
    "                b.append(this.get(i));\n",
    "            }\n",
    "        }\n",
    "        return b.toString();\n",
    "    }\n",
    "    \n",
    "    \n",
    "    public static void main(String[] args) {\n",
    "        Stack<Integer> t = new BadStack<>();\n",
    "        t.push(5).\n",
    "            push(4).\n",
    "            push(3).\n",
    "            push(2).\n",
    "            push(1);\n",
    "        System.out.println(t);\n",
    "        System.out.println();\n",
    "        \n",
    "        \n",
    "        while (!t.isEmpty()) {\n",
    "            System.out.println(\"peek   : \" + t.peek());\n",
    "            Integer i = t.pop();\n",
    "            System.out.println(\"popped : \" + i);\n",
    "            System.out.println(t);\n",
    "            System.out.println();\n",
    "        }\n",
    "        \n",
    "        // pop an empty stack\n",
    "        t.pop();\n",
    "    }\n",
    "}\n"
   ]
  },
  {
   "cell_type": "markdown",
   "metadata": {},
   "source": [
    "Run the following cell to run the `main` method."
   ]
  },
  {
   "cell_type": "code",
   "execution_count": null,
   "metadata": {},
   "outputs": [],
   "source": [
    "ca.queensu.cs.cisc235.stack.BadStack.main(null);"
   ]
  },
  {
   "cell_type": "markdown",
   "metadata": {},
   "source": [
    "## Notes\n",
    "\n",
    "The first thing the reader should notice is that there are no fields and no constructors. That is because `BadStack` inherits from `ArrayList` which means that `BadStack` *is* an `ArrayList` and the implementers of `ArrayList` have already taken care of choosing the fields and implementing all of the methods.\n",
    "\n",
    "A constructor is not required because the compiler will synthesize the no-argument constructor `BadStack()` for us as we did not include an constructors of our own. The compiler synthesized constructor will correctly call the `ArrayList` no-argument constructor.\n",
    "\n",
    "The second thing the reader should notice is that there is no `size` method but we can definitely get the size of a stack:"
   ]
  },
  {
   "cell_type": "code",
   "execution_count": null,
   "metadata": {},
   "outputs": [],
   "source": [
    "package ca.queensu.cs.cisc235.stack;\n",
    "\n",
    "BadStack<Integer> t1 = new BadStack<>();\n",
    "t1.push(1).push(2).push(3);\n",
    "\n",
    "System.out.println(t1.size());"
   ]
  },
  {
   "cell_type": "markdown",
   "metadata": {},
   "source": [
    "This is because `BadStack` inherits from `ArrayList` and `ArrayList` has a method named `size` that does exactly what the `Stack` interface says it should do (return the number of elements in the stack).\n",
    "\n",
    "The third thing the reader should notice is that there is no `equals` method but we can definitely test if two stacks are equal:"
   ]
  },
  {
   "cell_type": "code",
   "execution_count": null,
   "metadata": {},
   "outputs": [],
   "source": [
    "package ca.queensu.cs.cisc235.stack;\n",
    "\n",
    "BadStack<Integer> t1 = new BadStack<>();\n",
    "t1.push(1).push(2).push(3);\n",
    "\n",
    "BadStack<Integer> t2 = new BadStack<>();\n",
    "t2.push(1).push(2).push(3);\n",
    "\n",
    "System.out.println(t1.equals(t2));"
   ]
  },
  {
   "cell_type": "markdown",
   "metadata": {},
   "source": [
    "Again, this is because `BadStack` inherits `equals` from `ArrayList`.\n",
    "\n",
    "So why is `BadStack` a bad stack implementation? Because it's not just a stack, it's also a list. That means anything that you can do with a list you can also do with a `BackStack` object. For example, we can get and set the middle element from a `BadStack` object:"
   ]
  },
  {
   "cell_type": "code",
   "execution_count": null,
   "metadata": {},
   "outputs": [],
   "source": [
    "package ca.queensu.cs.cisc235.stack;\n",
    "\n",
    "BadStack<Integer> t1 = new BadStack<>();\n",
    "t1.push(1).push(2).push(3);\n",
    "\n",
    "System.out.println(t1.get(1));    // use List get method\n",
    "\n",
    "t1.set(1, 999);   // use List set method to set the element at index 1\n",
    "System.out.println(t1);"
   ]
  },
  {
   "cell_type": "markdown",
   "metadata": {},
   "source": [
    "Why is this a bad thing? Because the stack abstract data type is only supposed to support operations such as `push` and `pop`.\n",
    "\n",
    "The mis-use of inheritance in `BadStack` is a classic example of what not to do. In fact, [the standard stack implementation](https://docs.oracle.com/en/java/javase/11/docs/api/java.base/java/util/Stack.html) in the Java standard library makes exactly this same mistake."
   ]
  }
 ],
 "metadata": {
  "kernelspec": {
   "display_name": "Java",
   "language": "java",
   "name": "java"
  },
  "language_info": {
   "codemirror_mode": "text/x-java",
   "file_extension": ".java",
   "mimetype": "",
   "name": "Java",
   "nbconverter_exporter": "",
   "version": "11.0.1-internal"
  },
  "toc": {
   "base_numbering": 1,
   "nav_menu": {},
   "number_sections": false,
   "sideBar": false,
   "skip_h1_title": false,
   "title_cell": "Table of Contents",
   "title_sidebar": "Contents",
   "toc_cell": false,
   "toc_position": {},
   "toc_section_display": false,
   "toc_window_display": false
  }
 },
 "nbformat": 4,
 "nbformat_minor": 4
}
