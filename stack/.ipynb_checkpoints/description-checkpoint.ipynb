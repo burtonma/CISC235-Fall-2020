{
 "cells": [
  {
   "cell_type": "code",
   "execution_count": null,
   "metadata": {},
   "outputs": [],
   "source": [
    "// run this cell to prevent Jupyter from displaying the null output cell\n",
    "com.twosigma.beakerx.kernel.Kernel.showNullExecutionResult = false;"
   ]
  },
  {
   "cell_type": "markdown",
   "metadata": {},
   "source": [
    "<a id=\"notebook_id\"></a>\n",
    "# Stacks"
   ]
  },
  {
   "cell_type": "markdown",
   "metadata": {},
   "source": [
    "A stack is a collection of elements where the elements can be inserted and removed, but removing an element *always* causes the most recently inserted element to be removed: The stack implements a last-in, first-out or LIFO policy. This implies that a stack keeps its elements in sequence. \n",
    "\n",
    "Conceptually, a stack data structure is similar to the everyday notion of a stack of stuff:\n",
    "\n",
    "![Stacks of stuff](../resources/images/stacks/stack-1.png)\n",
    "\n",
    "Inserting and removing elements from a stack always occur at the top of the stack:\n",
    "\n",
    "![Top of a stack](../resources/images/stacks/stack-2.png)\n",
    "\n",
    "Classically, stacks only support two operations:\n",
    "\n",
    "1. The `push` operation adds an element to the top of a stack.\n",
    "2. The `pop` operation removes the element at the top of a stack.\n",
    "\n",
    "\n",
    "\n"
   ]
  },
  {
   "cell_type": "markdown",
   "metadata": {},
   "source": [
    "<video controls src=\"../resources/images/stacks/push.mp4\" />"
   ]
  },
  {
   "cell_type": "markdown",
   "metadata": {},
   "source": [
    "<video controls src=\"../resources/images/stacks/pop.mp4\" />"
   ]
  },
  {
   "cell_type": "markdown",
   "metadata": {},
   "source": [
    "In many actual implementations additional operations are also supported:\n",
    "\n",
    "3. The `size` operation returns the number of elements in the stack.\n",
    "4. The `isEmpty` operation returns true if the stack is empty (has no elements).\n",
    "5. The `peek` operation returns the top element of the stack without removing it from the stack.\n",
    "\n",
    "A Java implementation would also typically add the following operations:\n",
    "\n",
    "6. An `equals` method\n",
    "7. A `hashCode` method if `equals` is overridden\n",
    "8. A `toString` method\n",
    "\n",
    "Stacks have many useful applications:\n",
    "\n",
    "- The undo/redo feature of many software programs is usually implemented using an undo stack and a redo stack where the stacks hold objects that represent the commands that the user executed.\n",
    "- Many programming languages use a call stack to hold information about functions that are currently running. Emulating the call stack using a manually managed stack  is used to convert a recursive algorithm into an iterative algorithm.\n",
    "- Many parsing problems can be solved using stacks.\n",
    "- [Backtracking](https://en.wikipedia.org/wiki/Backtracking) algorithms can be implemented using stacks.\n",
    "- The Java Virtual Machine is a [stack-based machine](https://en.wikipedia.org/wiki/Stack_machine).\n"
   ]
  },
  {
   "cell_type": "markdown",
   "metadata": {},
   "source": [
    "## Exercises\n",
    "\n",
    "The following exercises should be done using pseudocode instead of Java.\n",
    "\n",
    "1. Suppose that a user performs an intermixed sequence of push and pop operations on a stack. The push operations put the integers 0 through 9 in order on to the stack; the pop operations print out the popped value. Which of the following sequence(s) can not be printed out using some sequence of push and pop operations?\n",
    "    - 0 1 2 3 4 5 6 7 8 9\n",
    "    - 4 6 8 7 5 3 2 9 0 1\n",
    "    - 2 5 6 7 4 8 9 3 1 0\n",
    "    - 4 3 2 1 0 5 6 7 8 9\n",
    " \n",
    " *Hint: The first sequence can be printed using push(0), pop(0), push(1), pop(1), etc.*\n",
    " \n",
    "2. Write an algorithm that will move the top value on one stack to the top of another stack.\n",
    "\n",
    "3. Write an algorithm that starts with a stack containing $n$ integers and finishes with the same integers in the same stack, but with the value that was on the bottom of the stack moved to the top and all other values moved down one position. For example if the stack had elements `4, 17, 9, 23` (from top to bottom) then your algorithm should finish with the stack having elements `23, 4, 17, 9`. You may use another stack in your solution.\n",
    "\n",
    "4. The Java programming language uses matched pairs of braces `{}` to denote blocks. Blocks can be inside of other blocks. If we look at just the braces then all of the following are correctly matched sets of braces:\n",
    "    - { }\n",
    "    - { { } }\n",
    "    - { } { }\n",
    "    - { { } { { { } } } }\n",
    "    \n",
    " Write an algorithm that determines if a string of braces represents a sequence of correctly matched braces.\n",
    " \n",
    "5. Write an algorithm that finds the largest (or smallest) value in a stack. After the algorithm finishes, the stack should be in the same state as when the algorithm started, however, during the algorithm you may change the state of the stack. You may use another stack in your solution (but not an array or list).\n",
    "\n",
    "6. Modify your algorithm from the previous question so that the largest (or smallest) value is on top of the stack and the other elements of the stack maintain their same relative order. For example, if the original stack is `1, 2, 10, 3, 4` (from top to bottom) then the final state of the stack if `10, 1, 2, 3, 4`."
   ]
  },
  {
   "cell_type": "code",
   "execution_count": null,
   "metadata": {},
   "outputs": [],
   "source": []
  }
 ],
 "metadata": {
  "kernelspec": {
   "display_name": "Java",
   "language": "java",
   "name": "java"
  },
  "language_info": {
   "codemirror_mode": "text/x-java",
   "file_extension": ".java",
   "mimetype": "",
   "name": "Java",
   "nbconverter_exporter": "",
   "version": "11.0.1-internal"
  },
  "toc": {
   "base_numbering": 1,
   "nav_menu": {},
   "number_sections": false,
   "sideBar": false,
   "skip_h1_title": false,
   "title_cell": "Table of Contents",
   "title_sidebar": "Contents",
   "toc_cell": false,
   "toc_position": {},
   "toc_section_display": false,
   "toc_window_display": false
  }
 },
 "nbformat": 4,
 "nbformat_minor": 4
}
