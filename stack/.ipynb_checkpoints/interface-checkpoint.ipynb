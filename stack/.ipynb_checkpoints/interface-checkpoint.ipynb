{
 "cells": [
  {
   "cell_type": "code",
   "execution_count": null,
   "metadata": {},
   "outputs": [],
   "source": [
    "// run this cell to prevent Jupyter from displaying the null output cell\n",
    "com.twosigma.beakerx.kernel.Kernel.showNullExecutionResult = false;"
   ]
  },
  {
   "cell_type": "markdown",
   "metadata": {},
   "source": [
    "<a id=\"notebook_id\"></a>\n",
    "# `Stack` interface"
   ]
  },
  {
   "cell_type": "markdown",
   "metadata": {},
   "source": [
    "The Java interface for a stack is shown in the following cell:"
   ]
  },
  {
   "cell_type": "code",
   "execution_count": null,
   "metadata": {},
   "outputs": [],
   "source": [
    "package ca.queensu.cs.cisc235.stack;\n",
    "\n",
    "/**\n",
    " * The {@code Stack} interface represents a last-in-first-out (LIFO) stack of\n",
    " * elements. In addition to the usual push and pop methods, this interface\n",
    " * allows the user to get the number of elements in a stack, get the top element\n",
    " * of the stack without popping the stack, and to get a string representation of\n",
    " * the stack.\n",
    " * \n",
    " * <p>\n",
    " * Some stack implementations may restrict the number of elements in a stack.\n",
    " * Such implementations should throw an exception if an element is pushed\n",
    " * on to a full stack.\n",
    " * \n",
    " * @param <E> the type of elements in the stack\n",
    " */\n",
    "public interface Stack<E> {\n",
    "\n",
    "    /**\n",
    "     * Returns the number of elements in this stack.\n",
    "     * \n",
    "     * @return the number of elements in this stack\n",
    "     */\n",
    "    public int size();\n",
    "\n",
    "    /**\n",
    "     * Returns {@code true} if this stack contains no elements. The default\n",
    "     * implementation simply returns {@code size() == 0}.\n",
    "     * \n",
    "     * @return true if this stack contains no elements\n",
    "     */\n",
    "    default boolean isEmpty() {\n",
    "        return this.size() == 0;\n",
    "    }\n",
    "\n",
    "    /**\n",
    "     * Pushes the specified element on to the top of this stack.\n",
    "     * \n",
    "     * @param elem the element to be pushed on to the top of this stack\n",
    "     * @return a reference to this stack\n",
    "     * @throws RuntimeException if the stack has fixed size and is full\n",
    "     */\n",
    "    public Stack<E> push(E elem);\n",
    "\n",
    "    /**\n",
    "     * Removes the element on the top of this stack and returns the element.\n",
    "     * \n",
    "     * @return the top element of this stack\n",
    "     * @throws RuntimeException if the stack is empty\n",
    "     */\n",
    "    public E pop();\n",
    "\n",
    "    /**\n",
    "     * Looks at the element on the top of this stack without removing it from the\n",
    "     * stack.\n",
    "     * \n",
    "     * @return the element on the top of this stack\n",
    "     * @throws RuntimeException if the stack is empty\n",
    "     */\n",
    "    public E peek();\n",
    "}\n"
   ]
  },
  {
   "cell_type": "markdown",
   "metadata": {},
   "source": [
    "Readers unfamiliar with Java interfaces should consult the official [Interfaces and Inheritance](https://docs.oracle.com/javase/tutorial/java/IandI/createinterface.html) tutorial."
   ]
  },
  {
   "cell_type": "markdown",
   "metadata": {},
   "source": [
    "## Implementing the interface\n",
    "\n",
    "Given the interface, our task is now to create a class that implements the interface. This means that we need to choose zero or more fields that we will use to represent the sequence of elements in a stack.\n",
    "\n",
    "The reader should have the intuition that an array or list can be used to store the elements in a stack. Indeed, we will proceed with five (!) different ways to implement a stack where we use:\n",
    "\n",
    "1. inheritance to create a list-based stack\n",
    "2. a `List` field to create a list-based stack\n",
    "3. an array field to create a fixed-sized stack\n",
    "4. an array field to create a stack\n",
    "5. a private `Node` class to create a linked list-based stack"
   ]
  },
  {
   "cell_type": "markdown",
   "metadata": {},
   "source": [
    "## Notes\n",
    "\n",
    "The `push` method returns a reference to the stack. This lets the user push multiple elements onto the stack like so:\n",
    "\n",
    "```java\n",
    "// t is a Stack<String> object\n",
    "\n",
    "t.push(\"abc\").push(\"xyz\").push(\"123\");\n",
    "```"
   ]
  },
  {
   "cell_type": "code",
   "execution_count": null,
   "metadata": {},
   "outputs": [],
   "source": []
  }
 ],
 "metadata": {
  "kernelspec": {
   "display_name": "Java",
   "language": "java",
   "name": "java"
  },
  "language_info": {
   "codemirror_mode": "text/x-java",
   "file_extension": ".java",
   "mimetype": "",
   "name": "Java",
   "nbconverter_exporter": "",
   "version": "11.0.1-internal"
  },
  "toc": {
   "base_numbering": 1,
   "nav_menu": {},
   "number_sections": false,
   "sideBar": false,
   "skip_h1_title": false,
   "title_cell": "Table of Contents",
   "title_sidebar": "Contents",
   "toc_cell": false,
   "toc_position": {},
   "toc_section_display": false,
   "toc_window_display": false
  }
 },
 "nbformat": 4,
 "nbformat_minor": 4
}
