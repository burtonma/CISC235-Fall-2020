{
 "cells": [
  {
   "cell_type": "code",
   "execution_count": null,
   "metadata": {},
   "outputs": [],
   "source": [
    "// run this cell to prevent Jupyter from displaying the null output cell\n",
    "com.twosigma.beakerx.kernel.Kernel.showNullExecutionResult = false;"
   ]
  },
  {
   "cell_type": "markdown",
   "metadata": {},
   "source": [
    "<a id=\"notebook_id\"></a>\n",
    "# Implementing linked structures\n",
    "\n",
    "An alternative to using an array for storing a linear sequence of elements is to use a linked list. In a linked list, the sequence of elements are represented using a sequence of simple structures called *nodes*. The first node in the sequence has a reference to the first element of the sequence, the second node in the sequence has a reference to the second element of the sequence, and so on. In addition to the element reference, a node has one or more references to other nodes. In a singly linked list, a node has a reference to the next node in the sequence.\n",
    "\n",
    "A minimal node class implementation is shown below:"
   ]
  },
  {
   "cell_type": "code",
   "execution_count": null,
   "metadata": {},
   "outputs": [],
   "source": [
    "public class Node<E> {\n",
    "    E elem;\n",
    "    Node<E> next;\n",
    "    \n",
    "    public Node(E elem, Node<E> next) {\n",
    "        this.elem = elem;\n",
    "        this.next = next;\n",
    "    }\n",
    "}"
   ]
  },
  {
   "cell_type": "markdown",
   "metadata": {},
   "source": [
    "A `Node` is normally an implementation detail of some other data structure and the `Node` class would normally be a private class defined inside the data structure class. We could add accessor and mutator methods to get and set the fields of a node, but the enclosing class already has direct access to the node fields in Java so we omit such methods in our implementations.\n",
    "\n",
    "The field `this.elem` is a reference to an element in the sequence.\n",
    "\n",
    "The field `this.next` is a reference to the next node in the sequence."
   ]
  },
  {
   "cell_type": "markdown",
   "metadata": {},
   "source": [
    "Suppose that we make a node like so:"
   ]
  },
  {
   "cell_type": "code",
   "execution_count": null,
   "metadata": {},
   "outputs": [],
   "source": [
    "Node<Integer> n = new Node<>(0, null);"
   ]
  },
  {
   "cell_type": "markdown",
   "metadata": {},
   "source": [
    "A picture of the node `n` might look something like:\n",
    "\n",
    "![A single node](../resources/images/stacks/stack_linked/Slide1.PNG)\n",
    "\n",
    "In the figure, a node is shown as a box representing the reference to an element and an arrow representing the reference to the next node. Strictly speaking, the box contains a reference and not the actual element but we show the actual element in the figure (in this case the number 0) instead of showing some representation of the reference. In other words, the box is the graphical representation of the field `this.elem` and the arrow is the graphical representation of the field `this.next`."
   ]
  },
  {
   "cell_type": "markdown",
   "metadata": {},
   "source": [
    "Suppose that we add a node after `n` like so:"
   ]
  },
  {
   "cell_type": "code",
   "execution_count": null,
   "metadata": {},
   "outputs": [],
   "source": [
    "Node<Integer> n = new Node<>(0, null);\n",
    "Node<Integer> after = new Node<>(1, null);\n",
    "n.next = after;"
   ]
  },
  {
   "cell_type": "markdown",
   "metadata": {},
   "source": [
    "A picture of the nodes `n` and `after` might look something like:\n",
    "\n",
    "![A node `n` followed by another node](../resources/images/stacks/stack_linked/Slide2.PNG)\n",
    "\n",
    "In the figure, the arrow of node `n` points to the node `after` indicating that `n` has a reference to the node `after`. The line of code that caused this happen is `n.next = after;`."
   ]
  },
  {
   "cell_type": "markdown",
   "metadata": {},
   "source": [
    "Instead of adding a node after `n`, suppose that we had added a node before `n` instead like so:"
   ]
  },
  {
   "cell_type": "code",
   "execution_count": null,
   "metadata": {},
   "outputs": [],
   "source": [
    "Node<Integer> n = new Node<>(0, null);\n",
    "Node<Integer> before = new Node<>(1, null);\n",
    "before.next = n;"
   ]
  },
  {
   "cell_type": "markdown",
   "metadata": {},
   "source": [
    "A picture of the nodes `n` and `before` might look something like:\n",
    "\n",
    "![A node `before` followed by `n`](../resources/images/stacks/stack_linked/Slide3.PNG)\n",
    "\n",
    "In the figure, the arrow of node `before` points to the node `n` indicating that `before` has a reference to the node `n`. The line of code that caused this happen is `before.next = n;`."
   ]
  },
  {
   "cell_type": "markdown",
   "metadata": {},
   "source": [
    "In a sequence, it is useful if we always keep track of the node at the start or front of the sequence. Renaming the node `n` to `front` (where `front` is the reference to the first node in the sequence) yields:"
   ]
  },
  {
   "cell_type": "code",
   "execution_count": null,
   "metadata": {},
   "outputs": [],
   "source": [
    "Node<Integer> front = new Node<>(0, null);\n",
    "Node<Integer> before = new Node<>(1, null);\n",
    "before.next = front;\n",
    "front = before;"
   ]
  },
  {
   "cell_type": "markdown",
   "metadata": {},
   "source": [
    "A picture of the two nodes might look something like:\n",
    "\n",
    "![A sequence of two nodes starting with `front`](../resources/images/stacks/stack_linked/Slide4.PNG)\n",
    "\n",
    "The figure conveys an important piece of information that we must always keep in mind when working with linked lists: We no longer have a direct reference to the second node in the sequence. If we want to access the second node, we must start at the front node and write `front.next` to get a reference to the second node."
   ]
  },
  {
   "cell_type": "markdown",
   "metadata": {},
   "source": [
    "The previous example can be accomplished with one fewer line of code using the constructor:"
   ]
  },
  {
   "cell_type": "code",
   "execution_count": null,
   "metadata": {},
   "outputs": [],
   "source": [
    "Node<Integer> front = new Node<>(0, null);\n",
    "\n",
    "Node<Integer> oldFront = front;\n",
    "front = new Node<>(1, oldFront);"
   ]
  },
  {
   "cell_type": "markdown",
   "metadata": {},
   "source": [
    "Suppose that we add three more nodes to the front of the sequence and then print the sequence by traversing the sequence of nodes. The traversal can be done using either a `for` loop (because we know the number of nodes in the sequence) or using a `while` loop (because we know that the sequence ends at a node whose `next` field is equal to `null`). To perform a traversal, we initialize a node `n` to refer to the node at the front of the sequence before the loop. Inside the loop we move to the next node in the sequence by setting `n` to `n.next`."
   ]
  },
  {
   "cell_type": "code",
   "execution_count": null,
   "metadata": {},
   "outputs": [],
   "source": [
    "Node<Integer> front = new Node<>(0, null);\n",
    "\n",
    "Node<Integer> oldFront = front;\n",
    "front = new Node<>(1, oldFront);\n",
    "\n",
    "oldFront = front;\n",
    "front = new Node<>(2, oldFront);\n",
    "\n",
    "oldFront = front;\n",
    "front = new Node<>(3, oldFront);\n",
    "\n",
    "oldFront = front;\n",
    "front = new Node<>(4, oldFront);\n",
    "\n",
    "int size = 5;\n",
    "Node<Integer> n = front;\n",
    "System.out.println(\"n.elem: \" + n.elem);\n",
    "for (int i = 0; i < size - 1; i++) {\n",
    "    n = n.next;\n",
    "    System.out.println(\"n.elem: \" + n.elem);\n",
    "}\n",
    "\n",
    "System.out.println(\"or using a while loop\");\n",
    "n = front;\n",
    "while (n != null) {\n",
    "    System.out.println(\"n.elem: \" + n.elem);\n",
    "    n = n.next;\n",
    "}"
   ]
  },
  {
   "cell_type": "markdown",
   "metadata": {},
   "source": [
    "A picture of the five nodes might look something like:\n",
    "\n",
    "![A node `before` followed by `n`](../resources/images/stacks/stack_linked/Slide5.PNG)\n"
   ]
  },
  {
   "cell_type": "markdown",
   "metadata": {},
   "source": [
    "To remove the first node of the sequence we simply set `front` to refer to the next node in the sequence:"
   ]
  },
  {
   "cell_type": "code",
   "execution_count": null,
   "metadata": {},
   "outputs": [],
   "source": [
    "Node<Integer> front = new Node<>(0, null);\n",
    "\n",
    "Node<Integer> oldFront = front;\n",
    "front = new Node<>(1, oldFront);\n",
    "\n",
    "oldFront = front;\n",
    "front = new Node<>(2, oldFront);\n",
    "\n",
    "oldFront = front;\n",
    "front = new Node<>(3, oldFront);\n",
    "\n",
    "oldFront = front;\n",
    "front = new Node<>(4, oldFront);\n",
    "\n",
    "\n",
    "oldFront = front;\n",
    "front = oldFront.next;      // or front = front.next; if we don't care about the old front node\n",
    "\n",
    "System.out.println(\"removed: \" + oldFront.elem);\n",
    "System.out.println(\"remaining sequence\");\n",
    "Node<Integer> n = front;\n",
    "while (n != null) {\n",
    "    System.out.println(\"n.elem: \" + n.elem);\n",
    "    n = n.next;\n",
    "}"
   ]
  },
  {
   "cell_type": "markdown",
   "metadata": {},
   "source": [
    "A picture of the nodes after removing the old front of the sequence might look something like:\n",
    "\n",
    "![A node `before` followed by `n`](../resources/images/stacks/stack_linked/Slide6.PNG)"
   ]
  },
  {
   "cell_type": "markdown",
   "metadata": {},
   "source": [
    "## Exercises\n",
    "\n",
    "1. In the array-based stack implementation we had to `null` out values stored in the array when an element was popped from the stack. If we did not `null` out the array element then a reference to the popped element exists in the array until it is overwritten (by subsequent `push` operations) or until the entire stack is garbage collected. This prevents the garbage collector from freeing memory associated with the element if the array value is never overwritten and the stack is long lived. When removing an element from the front of a linked list do we also have to `null` out the element in the node corresponding to the removed element? In other words, in the last notebook example, do we have to write `oldFront.elem = null;`?\n",
    "\n",
    "2. Suppose that an application required adding and removing elements to both the front and back of a linked list. What simple solution exists so that we do not have to traverse the entire list to get to the back element?"
   ]
  }
 ],
 "metadata": {
  "kernelspec": {
   "display_name": "Java",
   "language": "java",
   "name": "java"
  },
  "language_info": {
   "codemirror_mode": "text/x-java",
   "file_extension": ".java",
   "mimetype": "",
   "name": "Java",
   "nbconverter_exporter": "",
   "version": "11.0.1-internal"
  },
  "toc": {
   "base_numbering": 1,
   "nav_menu": {},
   "number_sections": false,
   "sideBar": false,
   "skip_h1_title": false,
   "title_cell": "Table of Contents",
   "title_sidebar": "Contents",
   "toc_cell": false,
   "toc_position": {},
   "toc_section_display": false,
   "toc_window_display": false
  }
 },
 "nbformat": 4,
 "nbformat_minor": 4
}
